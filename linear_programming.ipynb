{
  "nbformat": 4,
  "nbformat_minor": 0,
  "metadata": {
    "colab": {
      "name": "linear_programming.ipynb",
      "provenance": [],
      "include_colab_link": true
    },
    "language_info": {
      "name": "python"
    },
    "kernelspec": {
      "name": "python3",
      "display_name": "Python 3"
    }
  },
  "cells": [
    {
      "cell_type": "markdown",
      "metadata": {
        "id": "view-in-github",
        "colab_type": "text"
      },
      "source": [
        "<a href=\"https://colab.research.google.com/github/hrbae/LG_AI_training/blob/main/linear_programming.ipynb\" target=\"_parent\"><img src=\"https://colab.research.google.com/assets/colab-badge.svg\" alt=\"Open In Colab\"/></a>"
      ]
    },
    {
      "cell_type": "markdown",
      "metadata": {
        "id": "rpZimgrCotUt"
      },
      "source": [
        "##### Copyright 2021 Google LLC."
      ]
    },
    {
      "cell_type": "markdown",
      "metadata": {
        "id": "kc-e2luPotUv"
      },
      "source": [
        "Licensed under the Apache License, Version 2.0 (the \"License\");\n",
        "you may not use this file except in compliance with the License.\n",
        "You may obtain a copy of the License at\n",
        "\n",
        "    http://www.apache.org/licenses/LICENSE-2.0\n",
        "\n",
        "Unless required by applicable law or agreed to in writing, software\n",
        "distributed under the License is distributed on an \"AS IS\" BASIS,\n",
        "WITHOUT WARRANTIES OR CONDITIONS OF ANY KIND, either express or implied.\n",
        "See the License for the specific language governing permissions and\n",
        "limitations under the License.\n"
      ]
    },
    {
      "cell_type": "markdown",
      "metadata": {
        "id": "97_fKkFfotUw"
      },
      "source": [
        "# linear_programming_example"
      ]
    },
    {
      "cell_type": "markdown",
      "metadata": {
        "id": "nK_W84qJotUw"
      },
      "source": [
        "First, you must install [ortools](https://pypi.org/project/ortools/) package in this colab."
      ]
    },
    {
      "cell_type": "code",
      "metadata": {
        "id": "3cIivkrtotUx",
        "colab": {
          "base_uri": "https://localhost:8080/"
        },
        "outputId": "b5e3b88f-c600-4a48-bc5d-98b712117d25"
      },
      "source": [
        "!pip install ortools"
      ],
      "execution_count": 1,
      "outputs": [
        {
          "output_type": "stream",
          "name": "stdout",
          "text": [
            "Collecting ortools\n",
            "  Downloading ortools-9.0.9048-cp37-cp37m-manylinux1_x86_64.whl (14.4 MB)\n",
            "\u001b[K     |████████████████████████████████| 14.4 MB 93 kB/s \n",
            "\u001b[?25hRequirement already satisfied: absl-py>=0.11 in /usr/local/lib/python3.7/dist-packages (from ortools) (0.12.0)\n",
            "Requirement already satisfied: protobuf>=3.15.8 in /usr/local/lib/python3.7/dist-packages (from ortools) (3.17.3)\n",
            "Requirement already satisfied: six in /usr/local/lib/python3.7/dist-packages (from absl-py>=0.11->ortools) (1.15.0)\n",
            "Installing collected packages: ortools\n",
            "Successfully installed ortools-9.0.9048\n"
          ]
        }
      ]
    },
    {
      "cell_type": "markdown",
      "metadata": {
        "id": "-r7m4rjyAQCK"
      },
      "source": [
        "Changed from the LP example by Google."
      ]
    },
    {
      "cell_type": "code",
      "metadata": {
        "id": "XQSmWjuVotUy",
        "colab": {
          "base_uri": "https://localhost:8080/"
        },
        "outputId": "e67bf56f-4293-4eae-daa1-4c9e5ed4e2df"
      },
      "source": [
        "#!/usr/bin/env python3\n",
        "# Copyright 2010-2021 Google LLC\n",
        "# Licensed under the Apache License, Version 2.0 (the \"License\");\n",
        "# you may not use this file except in compliance with the License.\n",
        "# You may obtain a copy of the License at\n",
        "#\n",
        "#     http://www.apache.org/licenses/LICENSE-2.0\n",
        "#\n",
        "# Unless required by applicable law or agreed to in writing, software\n",
        "# distributed under the License is distributed on an \"AS IS\" BASIS,\n",
        "# WITHOUT WARRANTIES OR CONDITIONS OF ANY KIND, either express or implied.\n",
        "# See the License for the specific language governing permissions and\n",
        "# limitations under the License.\n",
        "\"\"\"Linear optimization example.\"\"\"\n",
        "# [START program]\n",
        "# [START import]\n",
        "from ortools.linear_solver import pywraplp\n",
        "# [END import]\n",
        "\n",
        "\n",
        "def LinearProgrammingExample():\n",
        "    \"\"\"Linear programming sample.\"\"\"\n",
        "    # Instantiate a Glop solver, naming it LinearExample.\n",
        "    # [START solver]\n",
        "    solver = pywraplp.Solver.CreateSolver('GLOP')\n",
        "    # [END solver]\n",
        "\n",
        "    # Create the two variables and let them take on any non-negative value.\n",
        "    # [START variables]\n",
        "    x1 = solver.NumVar(0, solver.infinity(), 'x1')\n",
        "    x2 = solver.NumVar(0, solver.infinity(), 'x2')\n",
        "\n",
        "    print('Number of variables =', solver.NumVariables())\n",
        "    # [END variables]\n",
        "\n",
        "    # [START constraints]\n",
        "    # Constraint 0: 4x1 + 3x2 <= 12.\n",
        "    solver.Add(4*x1 + 3 * x2 <= 12)\n",
        "\n",
        "    # Constraint 1: 2x1 + 5x2 <= 10.\n",
        "    solver.Add(2*x1 + 5*x2 <= 10)\n",
        "\n",
        " \n",
        "    print('Number of constraints =', solver.NumConstraints())\n",
        "    # [END constraints]\n",
        "\n",
        "    # [START objective]\n",
        "    # Objective function: 12x1 + 15x2.\n",
        "    solver.Maximize(12 * x1 + 15 * x2)\n",
        "    # [END objective]\n",
        "\n",
        "    # Solve the system.\n",
        "    # [START solve]\n",
        "    status = solver.Solve()\n",
        "    # [END solve]\n",
        "\n",
        "    # [START print_solution]\n",
        "    if status == pywraplp.Solver.OPTIMAL:\n",
        "        print('Solution:')\n",
        "        print('Objective value =', solver.Objective().Value())\n",
        "        print('x1 =', x1.solution_value())\n",
        "        print('x2 =', x2.solution_value())\n",
        "    else:\n",
        "        print('The problem does not have an optimal solution.')\n",
        "    # [END print_solution]\n",
        "\n",
        "    # [START advanced]\n",
        "    print('\\nAdvanced usage:')\n",
        "    print('Problem solved in %f milliseconds' % solver.wall_time())\n",
        "    print('Problem solved in %d iterations' % solver.iterations())\n",
        "    # [END advanced]\n",
        "\n",
        "\n",
        "LinearProgrammingExample()\n",
        "# [END program]\n",
        "\n"
      ],
      "execution_count": 7,
      "outputs": [
        {
          "output_type": "stream",
          "name": "stdout",
          "text": [
            "Number of variables = 2\n",
            "Number of constraints = 2\n",
            "Solution:\n",
            "Objective value = 42.857142857142854\n",
            "x1 = 2.1428571428571423\n",
            "x2 = 1.142857142857143\n",
            "\n",
            "Advanced usage:\n",
            "Problem solved in 3.000000 milliseconds\n",
            "Problem solved in 2 iterations\n"
          ]
        }
      ]
    },
    {
      "cell_type": "code",
      "metadata": {
        "colab": {
          "base_uri": "https://localhost:8080/"
        },
        "id": "LQyvq21XNWz9",
        "outputId": "3d1b78bc-172a-4862-dca0-7b074fdf4ffb"
      },
      "source": [
        "\"\"\"Linear optimization example.\"\"\"\n",
        "# [START program]\n",
        "# [START import]\n",
        "from ortools.linear_solver import pywraplp\n",
        "# [END import]\n",
        "\n",
        "\n",
        "def LinearProgrammingExample():\n",
        "    \"\"\"Linear programming sample.\"\"\"\n",
        "    # Instantiate a Glop solver, naming it LinearExample.\n",
        "    # [START solver]\n",
        "    solver = pywraplp.Solver.CreateSolver('GLOP')\n",
        "    # [END solver]\n",
        "\n",
        "    # Create the two variables and let them take on any non-negative value.\n",
        "    # [START variables]\n",
        "    x1 = solver.NumVar(0, solver.infinity(), 'x1')\n",
        "    x2 = solver.NumVar(0, solver.infinity(), 'x2')\n",
        "    x3 = solver.NumVar(0, solver.infinity(), 'x3')\n",
        "    x4 = solver.NumVar(0, solver.infinity(), 'x4')\n",
        "\n",
        "    print('Number of variables =', solver.NumVariables())\n",
        "    # [END variables]\n",
        "\n",
        "    # [START constraints]\n",
        "    # Constraint 0: \n",
        "    solver.Add(x1 + x2+ x3 + x4 <= 15)\n",
        "\n",
        "    # Constraint 1: \n",
        "    solver.Add(3*x1 + 5*x2 + 10*x3+15*x4<= 105)\n",
        "\n",
        "    # Constraint 2: \n",
        "    solver.Add(7*x1 + 5*x2 + 3*x3+2*x4<= 120)\n",
        "\n",
        "\n",
        "    print('Number of constraints =', solver.NumConstraints())\n",
        "    # [END constraints]\n",
        "\n",
        "    # [START objective]\n",
        "    # Objective function: \n",
        "    solver.Maximize(4 * x1 + 5 * x2 + 8*x3 + 11*x4)\n",
        "    # [END objective]\n",
        "\n",
        "    # Solve the system.\n",
        "    # [START solve]\n",
        "    status = solver.Solve()\n",
        "    # [END solve]\n",
        "\n",
        "    # [START print_solution]\n",
        "    if status == pywraplp.Solver.OPTIMAL:\n",
        "        print('Solution:')\n",
        "        print('Objective value =', solver.Objective().Value())\n",
        "        print('x1 =', x1.solution_value())\n",
        "        print('x2 =', x2.solution_value())\n",
        "        print('x3 =', x3.solution_value())\n",
        "        print('x4 =', x4.solution_value())\n",
        "    else:\n",
        "        print('The problem does not have an optimal solution.')\n",
        "    # [END print_solution]\n",
        "\n",
        "    # [START advanced]\n",
        "    print('\\nAdvanced usage:')\n",
        "    print('Problem solved in %f milliseconds' % solver.wall_time())\n",
        "    print('Problem solved in %d iterations' % solver.iterations())\n",
        "    # [END advanced]\n",
        "\n",
        "\n",
        "LinearProgrammingExample()\n",
        "# [END program]"
      ],
      "execution_count": 6,
      "outputs": [
        {
          "output_type": "stream",
          "name": "stdout",
          "text": [
            "Number of variables = 4\n",
            "Number of constraints = 3\n",
            "Solution:\n",
            "Objective value = 94.99999999999997\n",
            "x1 = 10.0\n",
            "x2 = 0.0\n",
            "x3 = 0.0\n",
            "x4 = 4.999999999999998\n",
            "\n",
            "Advanced usage:\n",
            "Problem solved in 4.000000 milliseconds\n",
            "Problem solved in 2 iterations\n"
          ]
        }
      ]
    }
  ]
}