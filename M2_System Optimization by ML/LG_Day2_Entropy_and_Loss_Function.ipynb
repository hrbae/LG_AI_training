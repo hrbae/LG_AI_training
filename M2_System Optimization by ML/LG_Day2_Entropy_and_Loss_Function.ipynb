{
  "nbformat": 4,
  "nbformat_minor": 0,
  "metadata": {
    "colab": {
      "name": "Entropy and Loss Function.ipynb",
      "provenance": [],
      "collapsed_sections": [],
      "authorship_tag": "ABX9TyPjcltVLvip8GbOh94PIGkg",
      "include_colab_link": true
    },
    "kernelspec": {
      "name": "python3",
      "display_name": "Python 3"
    },
    "language_info": {
      "name": "python"
    }
  },
  "cells": [
    {
      "cell_type": "markdown",
      "metadata": {
        "id": "view-in-github",
        "colab_type": "text"
      },
      "source": [
        "<a href=\"https://colab.research.google.com/github/hrbae/LG_AI_training/blob/main/M2_System%20Optimization%20by%20ML/LG_Day2_Entropy_and_Loss_Function.ipynb\" target=\"_parent\"><img src=\"https://colab.research.google.com/assets/colab-badge.svg\" alt=\"Open In Colab\"/></a>"
      ]
    },
    {
      "cell_type": "code",
      "metadata": {
        "colab": {
          "base_uri": "https://localhost:8080/",
          "height": 303
        },
        "id": "IC-oeFZYZfFi",
        "outputId": "c9f967f0-ba3f-4e6a-9068-a94474030c59"
      },
      "source": [
        "import numpy as np\n",
        "import matplotlib.pylab as plt\n",
        "\n",
        "\n",
        "def f(x):\n",
        "    return -np.log(x)    \n",
        "\n",
        "X = np.arange(0.0, 1.0, 0.00001)\n",
        "Y = f(X)\n",
        "plt.plot(X, Y)\n",
        "plt.ylim(-0.1, 10.1)\n",
        "plt.show()"
      ],
      "execution_count": null,
      "outputs": [
        {
          "output_type": "stream",
          "name": "stderr",
          "text": [
            "/usr/local/lib/python3.7/dist-packages/ipykernel_launcher.py:6: RuntimeWarning: divide by zero encountered in log\n",
            "  \n"
          ]
        },
        {
          "output_type": "display_data",
          "data": {
            "image/png": "[encoded data removed]",
            "text/plain": [
              "<Figure size 432x288 with 1 Axes>"
            ]
          },
          "metadata": {
            "needs_background": "light"
          }
        }
      ]
    },
    {
      "cell_type": "code",
      "metadata": {
        "colab": {
          "base_uri": "https://localhost:8080/",
          "height": 1000
        },
        "id": "I4owyTsYXQ_p",
        "outputId": "3289fcfe-298a-4ca2-d9d9-95a0c5a82831"
      },
      "source": [
        "import matplotlib.pyplot as plt\n",
        "import matplotlib.pylab as pylab\n",
        "import numpy as np\n",
        "\n",
        "# Function compute Entropy\n",
        "def H(p):\n",
        "    #####################################################################\n",
        "    # TODO:                                                             #\n",
        "    # Compute the Entropy of random variable X with 0*log0 = 0          #\n",
        "    #####################################################################\n",
        "    id_p = np.where(p != 0)\n",
        "    return -np.sum(p[id_p]*np.log(p[id_p]))\n",
        "    #####################################################################\n",
        "    #                       END OF YOUR CODE                            #\n",
        "    #####################################################################\n",
        "    \n",
        "\n",
        "# Initialize\n",
        "theta = np.arange(0, 1, 0.01)\n",
        "#p = np.array([1-theta, theta/4, theta/4, theta/4, theta/4]).T\n",
        "p = np.array([1-theta, theta]).T\n",
        "print(p)\n",
        "# Visualize\n",
        "HX = []\n",
        "id_max = 0\n",
        "H_max = 0\n",
        "for i in range(len(theta)):\n",
        "    temp = H(p[i])\n",
        "    HX.append(temp)\n",
        "    if (temp > H_max):\n",
        "        H_max = temp\n",
        "        id_max = i\n",
        "\n",
        "plt.plot(p[:,1], HX)\n",
        "plt.plot(p[id_max,1], H_max, 'ro')"
      ],
      "execution_count": null,
      "outputs": [
        {
          "output_type": "stream",
          "name": "stdout",
          "text": [
            "[[1.   0.  ]\n",
            " [0.99 0.01]\n",
            " [0.98 0.02]\n",
            " [0.97 0.03]\n",
            " [0.96 0.04]\n",
            " [0.95 0.05]\n",
            " [0.94 0.06]\n",
            " [0.93 0.07]\n",
            " [0.92 0.08]\n",
            " [0.91 0.09]\n",
            " [0.9  0.1 ]\n",
            " [0.89 0.11]\n",
            " [0.88 0.12]\n",
            " [0.87 0.13]\n",
            " [0.86 0.14]\n",
            " [0.85 0.15]\n",
            " [0.84 0.16]\n",
            " [0.83 0.17]\n",
            " [0.82 0.18]\n",
            " [0.81 0.19]\n",
            " [0.8  0.2 ]\n",
            " [0.79 0.21]\n",
            " [0.78 0.22]\n",
            " [0.77 0.23]\n",
            " [0.76 0.24]\n",
            " [0.75 0.25]\n",
            " [0.74 0.26]\n",
            " [0.73 0.27]\n",
            " [0.72 0.28]\n",
            " [0.71 0.29]\n",
            " [0.7  0.3 ]\n",
            " [0.69 0.31]\n",
            " [0.68 0.32]\n",
            " [0.67 0.33]\n",
            " [0.66 0.34]\n",
            " [0.65 0.35]\n",
            " [0.64 0.36]\n",
            " [0.63 0.37]\n",
            " [0.62 0.38]\n",
            " [0.61 0.39]\n",
            " [0.6  0.4 ]\n",
            " [0.59 0.41]\n",
            " [0.58 0.42]\n",
            " [0.57 0.43]\n",
            " [0.56 0.44]\n",
            " [0.55 0.45]\n",
            " [0.54 0.46]\n",
            " [0.53 0.47]\n",
            " [0.52 0.48]\n",
            " [0.51 0.49]\n",
            " [0.5  0.5 ]\n",
            " [0.49 0.51]\n",
            " [0.48 0.52]\n",
            " [0.47 0.53]\n",
            " [0.46 0.54]\n",
            " [0.45 0.55]\n",
            " [0.44 0.56]\n",
            " [0.43 0.57]\n",
            " [0.42 0.58]\n",
            " [0.41 0.59]\n",
            " [0.4  0.6 ]\n",
            " [0.39 0.61]\n",
            " [0.38 0.62]\n",
            " [0.37 0.63]\n",
            " [0.36 0.64]\n",
            " [0.35 0.65]\n",
            " [0.34 0.66]\n",
            " [0.33 0.67]\n",
            " [0.32 0.68]\n",
            " [0.31 0.69]\n",
            " [0.3  0.7 ]\n",
            " [0.29 0.71]\n",
            " [0.28 0.72]\n",
            " [0.27 0.73]\n",
            " [0.26 0.74]\n",
            " [0.25 0.75]\n",
            " [0.24 0.76]\n",
            " [0.23 0.77]\n",
            " [0.22 0.78]\n",
            " [0.21 0.79]\n",
            " [0.2  0.8 ]\n",
            " [0.19 0.81]\n",
            " [0.18 0.82]\n",
            " [0.17 0.83]\n",
            " [0.16 0.84]\n",
            " [0.15 0.85]\n",
            " [0.14 0.86]\n",
            " [0.13 0.87]\n",
            " [0.12 0.88]\n",
            " [0.11 0.89]\n",
            " [0.1  0.9 ]\n",
            " [0.09 0.91]\n",
            " [0.08 0.92]\n",
            " [0.07 0.93]\n",
            " [0.06 0.94]\n",
            " [0.05 0.95]\n",
            " [0.04 0.96]\n",
            " [0.03 0.97]\n",
            " [0.02 0.98]\n",
            " [0.01 0.99]]\n"
          ]
        },
        {
          "output_type": "execute_result",
          "data": {
            "text/plain": [
              "[<matplotlib.lines.Line2D at 0x7fe91159ecd0>]"
            ]
          },
          "metadata": {},
          "execution_count": 3
        },
        {
          "output_type": "display_data",
          "data": {
            "image/png": "[encoded data removed]",
            "text/plain": [
              "<Figure size 432x288 with 1 Axes>"
            ]
          },
          "metadata": {
            "needs_background": "light"
          }
        }
      ]
    },
    {
      "cell_type": "code",
      "metadata": {
        "colab": {
          "base_uri": "https://localhost:8080/"
        },
        "id": "nwsmKSjqYA2F",
        "outputId": "ca2804d1-3a0b-4810-8c81-7581e98fc86d"
      },
      "source": [
        "import numpy as np\n",
        "\n",
        "def H(p, q):\n",
        "    #############################################################################\n",
        "    # TODO:                                                                     #\n",
        "    # Compute the cross-entropy of 2 distributions p, q                         #\n",
        "    #############################################################################\n",
        "    return -np.sum(p*np.log(q))\n",
        "    #############################################################################\n",
        "    #                               END OF YOUR CODE                            #\n",
        "    #############################################################################\n",
        "    # Initialize  \n",
        "\n",
        "# Function compute Kullback-Leibler divergence\n",
        "def KLD(p, q):\n",
        "    #############################################################################\n",
        "    # TODO:                                                                     #\n",
        "    # Compute the Kullback-Leibler divergence of 2 disjointed distribution p, q #\n",
        "    #############################################################################\n",
        "    return np.sum(p*np.log(p/q))\n",
        "    #############################################################################\n",
        "    #                               END OF YOUR CODE                            #\n",
        "    #############################################################################\n",
        "    # Initialize\n",
        "#S = np.array([1,2,3,4,5])\n",
        "p = np.array([0.1, 0.2, 0.3, 0.3, 0.1])\n",
        "q = np.array([0.3, 0.3, 0.1, 0.1, 0.2])\n",
        "\n",
        "#Compute H(p, q)\n",
        "print(\"H(p,q)= \", H(p,q))\n",
        "\n",
        "# Compute D(p||q)\n",
        "# Expected result: D(p||q) = 0.398898404656\n",
        "print (\"KLD(p||q) = \", KLD(p, q))\n",
        "print (\"KLD(p||q) by defition=\", H(p,q)-H(p,p))"
      ],
      "execution_count": null,
      "outputs": [
        {
          "output_type": "stream",
          "name": "stdout",
          "text": [
            "H(p,q)=  1.903686688337618\n",
            "KLD(p||q) =  0.39889840465642734\n",
            "KLD(p||q) by defition= 0.39889840465642723\n"
          ]
        }
      ]
    }
  ]
}