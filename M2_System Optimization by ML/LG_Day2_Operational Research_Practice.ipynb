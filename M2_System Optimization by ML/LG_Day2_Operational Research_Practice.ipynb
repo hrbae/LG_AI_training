{
 "cells": [
  {
   "attachments": {},
   "cell_type": "markdown",
   "id": "9a4477d9",
   "metadata": {},
   "source": [
    "<a href=\"https://colab.research.google.com/github/hrbae/LG_AI_training/blob/main/M2_System%20Optimization%20by%20ML/LG_Day2_Operational%20Research_Practice.ipynb\" target=\"_parent\">\n",
    "<img src=\"https://colab.research.google.com/assets/colab-badge.svg\" alt=\"Open In Colab\"/></a>"
   ]
  },
  {
   "attachments": {},
   "cell_type": "markdown",
   "id": "4ae296ea-88ca-4459-9038-e9147a50d8f1",
   "metadata": {},
   "source": [
    "### LG 실습교육 (OR Tools & Python)    "
   ]
  },
  {
   "attachments": {},
   "cell_type": "markdown",
   "id": "1e706396-1085-4c85-ac9c-518e820f1b87",
   "metadata": {},
   "source": [
    "#### 1. 예제 문제 풀이 - 선형계획법    "
   ]
  },
  {
   "attachments": {},
   "cell_type": "markdown",
   "id": "9439342b-ddf0-461e-8031-6f1746c49d09",
   "metadata": {},
   "source": [
    "- 선형계획법 예시 문제    \n",
    "$$\n",
    "maximize\\ 3x+y \\\\\n",
    "subject\\ to. \\ 0 \\leq x \\leq 1 \\\\\n",
    "\\ \\ \\ \\ \\ \\ \\ \\ \\ \\ \\ \\ \\ \\ \\ \\ \\ \\ 0\\leq y \\leq 2 \\\\\n",
    "\\ \\ \\ \\ \\ \\ \\ \\ \\ \\ \\ \\ \\ \\ \\ \\ \\ \\ x+y \\leq  2 \\\\\n",
    "$$     "
   ]
  },
  {
   "attachments": {},
   "cell_type": "markdown",
   "id": "17d96f3f-c67c-4db0-a679-42a37239eee5",
   "metadata": {},
   "source": [
    "- OR Tools를 활용한 풀이 순서      \n",
    "    1. 라이브러리 호출    \n",
    "    2. 솔버 선언    \n",
    "    3. 변수 생성    \n",
    "    4. 제약조건 정의     \n",
    "    5. 목적함수 정의    \n",
    "    6. 솔버 호출        \n",
    "    7. 결과 표시   "
   ]
  },
  {
   "attachments": {},
   "cell_type": "markdown",
   "id": "1c2dc84b",
   "metadata": {},
   "source": [
    "<img src=https://i.imgur.com/nM3M6Jg.png width=\"500\" height = \"500\">"
   ]
  },
  {
   "attachments": {},
   "cell_type": "markdown",
   "id": "9f50a3aa-71f9-455d-8ec1-8ce29e3543ae",
   "metadata": {},
   "source": [
    "##### 1.1 패키지 불러오기  \n",
    "- 패키지명: ortools       "
   ]
  },
  {
   "cell_type": "code",
   "execution_count": null,
   "id": "3db76f21",
   "metadata": {},
   "outputs": [],
   "source": [
    "!pip install ortools"
   ]
  },
  {
   "cell_type": "code",
   "execution_count": 3,
   "id": "2064c86d-951f-4700-bf3b-285502af4e22",
   "metadata": {},
   "outputs": [],
   "source": [
    "from ortools.linear_solver import pywraplp"
   ]
  },
  {
   "attachments": {},
   "cell_type": "markdown",
   "id": "7add0551-11e8-4825-bd39-18b424c27fde",
   "metadata": {},
   "source": [
    "- pywraplp는 기본 C++솔버를 위한 Python 래퍼    "
   ]
  },
  {
   "attachments": {},
   "cell_type": "markdown",
   "id": "22b3ee72-89b9-470c-9ff5-ea1e1fa17af2",
   "metadata": {},
   "source": [
    "##### 1.2 Solver 선언     \n",
    "- 솔버: GLOP (GLOP: 선형 솔버)"
   ]
  },
  {
   "cell_type": "code",
   "execution_count": 3,
   "id": "e3b5b51a-8d40-4a2e-aa27-edadb41bb437",
   "metadata": {},
   "outputs": [
    {
     "data": {
      "text/plain": [
       "<ortools.linear_solver.pywraplp.Solver; proxy of <Swig Object of type 'operations_research::MPSolver *' at 0x000002BDBBA85390> >"
      ]
     },
     "execution_count": 3,
     "metadata": {},
     "output_type": "execute_result"
    }
   ],
   "source": [
    "# Create the linear solver with the GLOP backend.\n",
    "solver = pywraplp.Solver.CreateSolver('GLOP')\n",
    "solver"
   ]
  },
  {
   "attachments": {},
   "cell_type": "markdown",
   "id": "48309a26-cd5a-495a-908e-6083174834c3",
   "metadata": {},
   "source": [
    "##### 1.3 변수 생성      \n",
    "$$\n",
    "x:0 \\leq x \\leq 1 \\\\\n",
    "y:0 \\leq y \\leq 2\n",
    "$$"
   ]
  },
  {
   "cell_type": "code",
   "execution_count": 4,
   "id": "cfa94552-2f71-4d25-8ef5-8e67a9cdd671",
   "metadata": {},
   "outputs": [],
   "source": [
    "x = solver.NumVar(0, 1, 'x')\n",
    "y = solver.NumVar(0, 2, 'y')"
   ]
  },
  {
   "attachments": {},
   "cell_type": "markdown",
   "id": "261677b8-8e08-4fca-9ace-5dc642d8fcdc",
   "metadata": {},
   "source": [
    "##### 1.4 제약조건 생성     \n",
    "\n",
    "$$\n",
    "subject\\ to. \\ x+y \\leq 2\n",
    "$$"
   ]
  },
  {
   "cell_type": "code",
   "execution_count": 5,
   "id": "fc718a9e-f23b-48ae-9b16-f82c0b24d61d",
   "metadata": {},
   "outputs": [],
   "source": [
    "ct = solver.Constraint(0, 2, 'ct')\n",
    "ct.SetCoefficient(x, 1)\n",
    "ct.SetCoefficient(y, 1)"
   ]
  },
  {
   "attachments": {},
   "cell_type": "markdown",
   "id": "36ecb720-114d-44a5-a80b-ff07f1430d2b",
   "metadata": {},
   "source": [
    "##### 1.5 목표 함수 정의    "
   ]
  },
  {
   "cell_type": "code",
   "execution_count": 6,
   "id": "81f114f3-0b81-436b-93ac-f0d3acddb2a4",
   "metadata": {},
   "outputs": [],
   "source": [
    "objective = solver.Objective()\n",
    "objective.SetCoefficient(x, 3)\n",
    "objective.SetCoefficient(y, 1)\n",
    "objective.SetMaximization()"
   ]
  },
  {
   "attachments": {},
   "cell_type": "markdown",
   "id": "6514eeda-1c62-4950-9ba4-875b4e28b3f5",
   "metadata": {},
   "source": [
    "##### 1.6 솔버 호출     "
   ]
  },
  {
   "cell_type": "code",
   "execution_count": 7,
   "id": "1cde2abd-c479-4f38-87ae-6f7342d9e5c6",
   "metadata": {},
   "outputs": [
    {
     "name": "stdout",
     "output_type": "stream",
     "text": [
      "Solution:\n",
      "Objective value = 4.0\n",
      "x = 1.0\n",
      "y = 1.0\n"
     ]
    }
   ],
   "source": [
    "solver.Solve()\n",
    "print('Solution:')\n",
    "print('Objective value =', objective.Value())\n",
    "print('x =', x.solution_value())\n",
    "print('y =', y.solution_value())"
   ]
  },
  {
   "attachments": {},
   "cell_type": "markdown",
   "id": "62ffbd02-4bf8-4fb9-8a95-106582070337",
   "metadata": {},
   "source": [
    "#### 2. 예제 문제 풀이 - 혼합정수계획법    "
   ]
  },
  {
   "attachments": {},
   "cell_type": "markdown",
   "id": "59d97784-b3ee-4cfa-921c-55dc6f54db0f",
   "metadata": {},
   "source": [
    "- 혼합정수계획법 예시 문제    \n",
    "$$\n",
    "maximize\\ x+10y \\\\\n",
    "subject\\ to. \\ x + 7y \\leq 17.5 \\\\\n",
    "\\ \\ \\ \\ \\ \\ \\ \\ \\ \\ \\ \\ \\ \\ \\ 0\\leq x \\leq 3.5 \\\\\n",
    "\\ \\ \\ \\ \\  0\\leq y \\\\\n",
    "$$     "
   ]
  },
  {
   "attachments": {},
   "cell_type": "markdown",
   "id": "5f168fc5",
   "metadata": {},
   "source": [
    "<img src=https://i.imgur.com/Jrihnz8.png width=\"500\" height = \"500\">"
   ]
  },
  {
   "attachments": {},
   "cell_type": "markdown",
   "id": "810a3578-eacd-4515-ab45-18c889d90769",
   "metadata": {},
   "source": [
    "##### 2.1 MLP 솔버 선언       \n",
    "- 솔버: SCIP (SCIP: 혼합정수계획법 솔버)"
   ]
  },
  {
   "cell_type": "code",
   "execution_count": 9,
   "id": "6d999992-827e-4bd2-b588-27aee418a4e1",
   "metadata": {},
   "outputs": [
    {
     "data": {
      "text/plain": [
       "<ortools.linear_solver.pywraplp.Solver; proxy of <Swig Object of type 'operations_research::MPSolver *' at 0x000002BDBBA8B240> >"
      ]
     },
     "execution_count": 9,
     "metadata": {},
     "output_type": "execute_result"
    }
   ],
   "source": [
    "solver = pywraplp.Solver.CreateSolver('SAT')\n",
    "solver"
   ]
  },
  {
   "attachments": {},
   "cell_type": "markdown",
   "id": "f769050b-9440-4cd3-b4b2-6006d0d121a2",
   "metadata": {},
   "source": [
    "##### 2.2 변수 생성    \n",
    "- $x$, $y$는 정수 (integer non-negative)임을 정의"
   ]
  },
  {
   "cell_type": "code",
   "execution_count": 10,
   "id": "75def572-86b4-4fcf-bd31-66b2fbd6c142",
   "metadata": {},
   "outputs": [],
   "source": [
    "infinity = solver.infinity()\n",
    "x = solver.IntVar(0.0, infinity, 'x')\n",
    "########################## 빈칸 ##########################\n",
    "y = \"변수 설정\"\n",
    "##########################################################"
   ]
  },
  {
   "attachments": {},
   "cell_type": "markdown",
   "id": "95739bfc-32ba-453f-9aa1-649bde3e4873",
   "metadata": {},
   "source": [
    "##### 2.4 제약조건 생성    "
   ]
  },
  {
   "cell_type": "code",
   "execution_count": 11,
   "id": "0244d497-ab85-4502-ab49-67d56d06c9ca",
   "metadata": {},
   "outputs": [
    {
     "data": {
      "text/plain": [
       "<ortools.linear_solver.pywraplp.Constraint; proxy of <Swig Object of type 'operations_research::MPConstraint *' at 0x000002BDBBA99360> >"
      ]
     },
     "execution_count": 11,
     "metadata": {},
     "output_type": "execute_result"
    }
   ],
   "source": [
    "########################## 빈칸 ##########################\n",
    "\"제약 조건 추가\"\n",
    "##########################################################\n",
    "\n",
    "solver.Add(x <= 3.5)"
   ]
  },
  {
   "attachments": {},
   "cell_type": "markdown",
   "id": "c27134c7-3760-492f-9574-4b67e846e09c",
   "metadata": {},
   "source": [
    "##### 2.5 목표함수 정의    "
   ]
  },
  {
   "cell_type": "code",
   "execution_count": 12,
   "id": "4b63c35a-b323-4d1b-836b-515225c18e9c",
   "metadata": {},
   "outputs": [],
   "source": [
    "solver.Maximize(x + 10 * y)"
   ]
  },
  {
   "attachments": {},
   "cell_type": "markdown",
   "id": "f0a36fd8-66d3-4220-87bc-44b827ff25a3",
   "metadata": {},
   "source": [
    "##### 2.6 솔버 호출   "
   ]
  },
  {
   "cell_type": "code",
   "execution_count": 13,
   "id": "e26ca565-dffe-4642-9626-1e001fba4480",
   "metadata": {},
   "outputs": [
    {
     "name": "stdout",
     "output_type": "stream",
     "text": [
      "Solving with CP-SAT solver v9.6.2534\n"
     ]
    }
   ],
   "source": [
    "print(f'Solving with {solver.SolverVersion()}')\n",
    "status = solver.Solve()"
   ]
  },
  {
   "cell_type": "code",
   "execution_count": 14,
   "id": "659bb802-299d-492c-b791-0d1ed46b18a7",
   "metadata": {},
   "outputs": [
    {
     "name": "stdout",
     "output_type": "stream",
     "text": [
      "Solution:\n",
      "Objective value = 23.0\n",
      "x = 3.0\n",
      "y = 2.0\n"
     ]
    }
   ],
   "source": [
    "if status == pywraplp.Solver.OPTIMAL:\n",
    "    print('Solution:')\n",
    "    print('Objective value =', solver.Objective().Value())\n",
    "    print('x =', x.solution_value())\n",
    "    print('y =', y.solution_value())\n",
    "else:\n",
    "    print('The problem does not have an optimal solution.')"
   ]
  },
  {
   "attachments": {},
   "cell_type": "markdown",
   "id": "15fc72c8-3e1b-47af-92c0-29372a82877b",
   "metadata": {},
   "source": [
    "##### 3. 응용 문제 풀이 - 작업자 배정 문제 1      "
   ]
  },
  {
   "attachments": {},
   "cell_type": "markdown",
   "id": "9b69cf7b-7d48-41d0-9e1b-fe28914444f1",
   "metadata": {},
   "source": [
    "- 목적: 총 비용 최소화\n",
    "- 제약조건: 각 작업자를 최대 1개의 작업에 할당하고, 두 명의 작업자의 작업 중복상황 방지    \n",
    "\n",
    "| Worker | Task 0 | Task 1 | Task 2 | Task 3 |\n",
    "| ------ | ------ | ------ | ------ | ------ |\n",
    "| 0      | 90     | 80     | 75     | 70     |\n",
    "| 1      | 35     | 85     | 55     | 65     |\n",
    "| 2      | 125    | 95     | 90     | 95     |\n",
    "| 3      | 45     | 110    | 95     | 115    |\n",
    "| 4      | 50     | 100    | 90     | 100    |"
   ]
  },
  {
   "attachments": {},
   "cell_type": "markdown",
   "id": "e29f81d7-aa24-4c0b-bb61-430c2ece96b6",
   "metadata": {},
   "source": [
    "##### 3.1 데이터 만들기    "
   ]
  },
  {
   "cell_type": "code",
   "execution_count": 15,
   "id": "38ec0687-733b-438a-9755-d0ef7d3fde8e",
   "metadata": {},
   "outputs": [],
   "source": [
    "costs = [\n",
    "    [90, 80, 75, 70],\n",
    "    [35, 95, 55, 65],\n",
    "    [125, 95, 90, 95],\n",
    "    [45, 110, 95, 115],\n",
    "    [50, 100, 90, 100]\n",
    "]\n",
    "\n",
    "num_workers = len(costs)\n",
    "num_tasks = len(costs[0])"
   ]
  },
  {
   "attachments": {},
   "cell_type": "markdown",
   "id": "039d2acc-bbc9-4dcf-ab2c-52ee09593019",
   "metadata": {},
   "source": [
    "##### 3.2 MIP 솔버 선언      \n",
    "- 솔버: SCIP (SCIP: 혼합정수계획법 솔버)"
   ]
  },
  {
   "cell_type": "code",
   "execution_count": 16,
   "id": "441434d3-54f8-4fe3-857b-a549c30a1fbf",
   "metadata": {},
   "outputs": [
    {
     "data": {
      "text/plain": [
       "<ortools.linear_solver.pywraplp.Solver; proxy of <Swig Object of type 'operations_research::MPSolver *' at 0x000002BDBBCB06F0> >"
      ]
     },
     "execution_count": 16,
     "metadata": {},
     "output_type": "execute_result"
    }
   ],
   "source": [
    "solver = pywraplp.Solver.CreateSolver('SCIP')\n",
    "solver"
   ]
  },
  {
   "attachments": {},
   "cell_type": "markdown",
   "id": "15304f8b-2b96-47ee-8734-5195e7f98aed",
   "metadata": {},
   "source": [
    "##### 3.3 변수 생성    \n",
    "- Binary 변수로 정의    \n",
    "- 0: 작업할당 x 1: 작업할당    "
   ]
  },
  {
   "cell_type": "code",
   "execution_count": 17,
   "id": "df4324b7-8a56-4b23-895d-4fa70eaaabc4",
   "metadata": {},
   "outputs": [],
   "source": [
    "x = {}\n",
    "for i in range(num_workers):\n",
    "    for j in range(num_tasks):\n",
    "        x[i, j] = solver.IntVar(0, 1, '')"
   ]
  },
  {
   "attachments": {},
   "cell_type": "markdown",
   "id": "8598cbbb-3e92-46a5-ae18-2b5ba6e42bac",
   "metadata": {},
   "source": [
    "##### 3.4 제약조건 생성     \n",
    "- 제약조건 1: 각 작업자는 최소 1개 이상의 작업 할당      \n",
    "- 제약조건 2: 각 작업은 두명 이상의 작업자에게 할당될 수 없음     "
   ]
  },
  {
   "cell_type": "code",
   "execution_count": 18,
   "id": "34625c1d-339a-43bb-abc9-d1546f3f8156",
   "metadata": {},
   "outputs": [],
   "source": [
    "# Constraint 1  \n",
    "for i in range(num_workers):\n",
    "    solver.Add(solver.Sum([x[i, j] for j in range(num_tasks)]) <= 1)"
   ]
  },
  {
   "cell_type": "code",
   "execution_count": null,
   "id": "3b6b3a60-7674-4f72-9829-35f4ec94ea76",
   "metadata": {},
   "outputs": [],
   "source": [
    "# Constraint 2  \n",
    "for j in range(num_tasks):\n",
    "    ########################## 빈칸 ##########################\n",
    "    \"제약조건 추가\"\n",
    "    ##########################################################"
   ]
  },
  {
   "attachments": {},
   "cell_type": "markdown",
   "id": "303fd17c-e005-45e7-8752-d723a79e6661",
   "metadata": {},
   "source": [
    "##### 3.5 목표함수 정의   "
   ]
  },
  {
   "cell_type": "code",
   "execution_count": 20,
   "id": "a840fe90-2bb9-48ee-bd0b-a3ac223b3868",
   "metadata": {},
   "outputs": [],
   "source": [
    "objective_terms = [] \n",
    "for i in range(num_workers):\n",
    "    for j in range(num_tasks):\n",
    "        objective_terms.append(costs[i][j] * x[i, j])\n",
    "########################## 빈칸 ##########################\n",
    "\"목적함수 정의\"\n",
    "##########################################################"
   ]
  },
  {
   "attachments": {},
   "cell_type": "markdown",
   "id": "6217adbc-75f0-495d-a4ef-7c03bd9971c9",
   "metadata": {},
   "source": [
    "##### 3.6 솔버 호출    "
   ]
  },
  {
   "cell_type": "code",
   "execution_count": 21,
   "id": "a07da385-1c8f-42c8-8558-db213216f537",
   "metadata": {},
   "outputs": [],
   "source": [
    "status = solver.Solve()"
   ]
  },
  {
   "attachments": {},
   "cell_type": "markdown",
   "id": "1ad7d3c4-a4dd-4467-a0a6-e9056652541a",
   "metadata": {},
   "source": [
    "##### 3.7 최적값 출력"
   ]
  },
  {
   "cell_type": "code",
   "execution_count": 22,
   "id": "8e5ceac0-f76d-423d-929e-960dab52ee59",
   "metadata": {},
   "outputs": [
    {
     "name": "stdout",
     "output_type": "stream",
     "text": [
      "Total cost = 265.0\n",
      "\n",
      "Worker 0 assigned to task 3. Cost: 70\n",
      "Worker 1 assigned to task 2. Cost: 55\n",
      "Worker 2 assigned to task 1. Cost: 95\n",
      "Worker 3 assigned to task 0. Cost: 45\n"
     ]
    }
   ],
   "source": [
    "if status == pywraplp.Solver.OPTIMAL or status == pywraplp.Solver.FEASIBLE:\n",
    "    print(f'Total cost = {solver.Objective().Value()}\\n')\n",
    "    for i in range(num_workers):\n",
    "        for j in range(num_tasks):\n",
    "            if x[i, j].solution_value() > 0.5:\n",
    "                print(f'Worker {i} assigned to task {j}.' +\n",
    "                      f' Cost: {costs[i][j]}')\n",
    "else:\n",
    "    print('No solution found.')"
   ]
  },
  {
   "attachments": {},
   "cell_type": "markdown",
   "id": "cc3523a8-454b-42bf-9a32-4168f6546be6",
   "metadata": {},
   "source": [
    "##### 4. 응용 문제 풀이 - 작업자 배정 문제 2        "
   ]
  },
  {
   "attachments": {},
   "cell_type": "markdown",
   "id": "2d9e1474-eb1a-4f45-af4a-3fd7d74a65a2",
   "metadata": {},
   "source": [
    "- 목적: 총 비용 최소화\n",
    "- 제약조건 1: 각 작업자를 최소 1개, 최대 3개 작업에 할당     \n",
    "- 제약조건 2: 각 작업은 최소 1명의 작업자에게만 할당이 되어야 함   \n",
    "\n",
    "| Worker | Task 0 | Task 1 | Task 2 | Task 3 | Task 4 | Task 5 | Task 6 | Task 7 | Task 8 | Task 9 |\n",
    "| ------ | ------ | ------ | ------ | ------ | ------ | ------ | ------ | ------ | ------ | ------ |\n",
    "| 0      | 90     | 80     | 75     | 100    | 100    | 140    | 120    | 35     | 210    | 130    |\n",
    "| 1      | 65     | 35     | 55     | 165    | 120    | 55     | 40     | 45     | 180    | 220    |\n",
    "| 2      | 225    | 45     | 90     | 55     | 140    | 100    | 60     | 15     | 140    | 100    |\n",
    "| 3      | 35     | 20     | 95     | 315    | 50     | 80     | 80     | 35     | 100    | 60     |\n",
    "| 4      | 10     | 150    | 90     | 120    | 40     | 200    | 90     | 95     | 300    | 50     |"
   ]
  },
  {
   "attachments": {},
   "cell_type": "markdown",
   "id": "5d7280a2-0265-43b1-93ad-907e23086c19",
   "metadata": {},
   "source": [
    "##### 4.1 데이터 만들기"
   ]
  },
  {
   "cell_type": "code",
   "execution_count": 23,
   "id": "7b122a7a-eafa-48cb-beb3-76a90c4c92bb",
   "metadata": {},
   "outputs": [],
   "source": [
    "costs = [\n",
    "    [90, 80, 75, 100, 100, 140, 120, 35, 210, 130],\n",
    "    [65, 35, 55, 165, 120, 55, 40, 45, 180, 220],\n",
    "    [225, 45, 90, 55, 140, 100, 60, 15, 140, 100],\n",
    "    [35, 20, 95, 315, 50, 80, 80, 35, 100, 60],\n",
    "    [10, 150, 90, 120, 40, 200, 90, 95, 300, 50]    \n",
    "]\n",
    "\n",
    "num_workers = len(costs)\n",
    "num_tasks = len(costs[0])"
   ]
  },
  {
   "attachments": {},
   "cell_type": "markdown",
   "id": "c2437aef-1d84-4ce6-9c3f-78dab5115ffb",
   "metadata": {},
   "source": [
    "##### 4.2 MIP 솔버 선언"
   ]
  },
  {
   "cell_type": "code",
   "execution_count": 24,
   "id": "eb98ee9d-69fd-4abd-88bc-3b259f0d6944",
   "metadata": {},
   "outputs": [
    {
     "data": {
      "text/plain": [
       "<ortools.linear_solver.pywraplp.Solver; proxy of <Swig Object of type 'operations_research::MPSolver *' at 0x000002BDBBCBA480> >"
      ]
     },
     "execution_count": 24,
     "metadata": {},
     "output_type": "execute_result"
    }
   ],
   "source": [
    "solver = pywraplp.Solver.CreateSolver('SCIP')\n",
    "solver"
   ]
  },
  {
   "attachments": {},
   "cell_type": "markdown",
   "id": "dd77beca-1a80-42a7-9223-11290e61d7b6",
   "metadata": {},
   "source": [
    "##### 4.3 변수 생성"
   ]
  },
  {
   "cell_type": "code",
   "execution_count": 25,
   "id": "2c5ccf45-c828-4c49-a269-b82b961a0ce8",
   "metadata": {},
   "outputs": [],
   "source": [
    "x = {}\n",
    "for i in range(num_workers):\n",
    "    for j in range(num_tasks):\n",
    "        x[i, j] = solver.IntVar(0, 1, '')"
   ]
  },
  {
   "attachments": {},
   "cell_type": "markdown",
   "id": "2ae78a4c-42e8-4657-8315-6f471ba80baf",
   "metadata": {},
   "source": [
    "##### 4.4 제약조건 생성"
   ]
  },
  {
   "cell_type": "code",
   "execution_count": 26,
   "id": "3b29d6c0-94cc-4f72-a30b-99ecfc6a187e",
   "metadata": {},
   "outputs": [],
   "source": [
    "# Constraint 1  \n",
    "for i in range(num_workers):\n",
    "    solver.Add(solver.Sum([x[i, j] for j in range(num_tasks)]) <= 3)\n",
    "    solver.Add(solver.Sum([x[i, j] for j in range(num_tasks)]) >= 1)"
   ]
  },
  {
   "cell_type": "code",
   "execution_count": 27,
   "id": "f5e265ab-1a40-468e-9e84-e72f96015b8f",
   "metadata": {},
   "outputs": [],
   "source": [
    "# Constraint 2  \n",
    "for j in range(num_tasks):\n",
    "    solver.Add(solver.Sum([x[i, j] for i in range(num_workers)]) == 1)"
   ]
  },
  {
   "attachments": {},
   "cell_type": "markdown",
   "id": "fd96b9c4-f713-4a3d-9174-8f6b635c45f3",
   "metadata": {},
   "source": [
    "##### 4.5 목적함수 정의"
   ]
  },
  {
   "cell_type": "code",
   "execution_count": 28,
   "id": "3778efff-91c1-44f6-bced-59b11c1ecafd",
   "metadata": {},
   "outputs": [],
   "source": [
    "objective_terms = [] \n",
    "for i in range(num_workers):\n",
    "    for j in range(num_tasks):\n",
    "        objective_terms.append(costs[i][j] * x[i, j])\n",
    "solver.Minimize(solver.Sum(objective_terms))"
   ]
  },
  {
   "attachments": {},
   "cell_type": "markdown",
   "id": "82da05e3-e438-4106-ab68-8a4b7aecdba5",
   "metadata": {},
   "source": [
    "##### 4.6 솔버 호출"
   ]
  },
  {
   "cell_type": "code",
   "execution_count": 29,
   "id": "6b184228-524d-4df5-994d-20acbf99b923",
   "metadata": {},
   "outputs": [],
   "source": [
    "status = solver.Solve()"
   ]
  },
  {
   "attachments": {},
   "cell_type": "markdown",
   "id": "5e3100c1-bff1-4dd7-bc86-fcdbbd34a1a1",
   "metadata": {},
   "source": [
    "##### 4.7 최적값 출력"
   ]
  },
  {
   "cell_type": "code",
   "execution_count": 30,
   "id": "62778a9a-98a1-46c8-b2ae-29c459744469",
   "metadata": {},
   "outputs": [
    {
     "name": "stdout",
     "output_type": "stream",
     "text": [
      "Total cost = 460.0\n",
      "\n",
      "Worker 0 assigned to task 7. Cost: 35\n",
      "Worker 1 assigned to task 2. Cost: 55\n",
      "Worker 1 assigned to task 5. Cost: 55\n",
      "Worker 1 assigned to task 6. Cost: 40\n",
      "Worker 2 assigned to task 3. Cost: 55\n",
      "Worker 3 assigned to task 1. Cost: 20\n",
      "Worker 3 assigned to task 8. Cost: 100\n",
      "Worker 4 assigned to task 0. Cost: 10\n",
      "Worker 4 assigned to task 4. Cost: 40\n",
      "Worker 4 assigned to task 9. Cost: 50\n"
     ]
    }
   ],
   "source": [
    "if status == pywraplp.Solver.OPTIMAL or status == pywraplp.Solver.FEASIBLE:\n",
    "    print(f'Total cost = {solver.Objective().Value()}\\n')\n",
    "    for i in range(num_workers):\n",
    "        for j in range(num_tasks):\n",
    "            if x[i, j].solution_value() > 0.5:\n",
    "                print(f'Worker {i} assigned to task {j}.' +\n",
    "                      f' Cost: {costs[i][j]}')\n",
    "else:\n",
    "    print('No solution found.')"
   ]
  },
  {
   "attachments": {},
   "cell_type": "markdown",
   "id": "39173fac-174d-4658-91fb-d49ac0f1b91b",
   "metadata": {},
   "source": [
    "##### 6. 응용 문제 풀이 - 작업자 배정 문제 4"
   ]
  },
  {
   "attachments": {},
   "cell_type": "markdown",
   "id": "0598e08e-6456-4f70-8b18-c394e0d47961",
   "metadata": {},
   "source": [
    "- 목적: 총 비용 최소화\n",
    "- 제약조건 1: 각 작업자를 최소 1개, 최대 3개 작업에 할당     \n",
    "- 제약조건 2: 각 작업은 최소 1명의 작업자에게만 할당이 되어야 함   \n",
    "- 제약조건 3: 작업자는 2개의 팀으로 분할되며, 각 팀은 최소 2개 이상 최대 7개 이하까지 작업할당이 가능\n",
    "\n",
    "| Worker | Team   | Task 0 | Task 1 | Task 2 | Task 3 | Task 4 | Task 5 | Task 6 | Task 7 | Task 8 | Task 9 |\n",
    "| ------ | ------ | ------ | ------ | ------ | ------ | ------ | ------ | ------ | ------ | ------ | ------ |\n",
    "| 0      | Team 1 | 90     | 80     | 75     | 100    | 100    | 140    | 120    | 35     | 210    | 130    |\n",
    "| 1      | Team 1 | 65     | 35     | 55     | 165    | 120    | 55     | 40     | 45     | 180    | 220    |\n",
    "| 2      | Team 1 | 225    | 45     | 90     | 55     | 140    | 100    | 60     | 15     | 140    | 100    |\n",
    "| 3      | Team 2 | 35     | 20     | 95     | 315    | 50     | 80     | 80     | 35     | 100    | 60     |\n",
    "| 4      | Team 2 | 10     | 150    | 90     | 120    | 40     | 200    | 90     | 95     | 300    | 50     |\n",
    "| 5      | Team 2 | 80     | 40     | 100    | 30     | 70     | 150    | 30     | 15     | 400    | 90     |"
   ]
  },
  {
   "attachments": {},
   "cell_type": "markdown",
   "id": "dbecad3b-7169-48e8-9978-fe8991a51142",
   "metadata": {},
   "source": [
    "##### 6.1 데이터 생성"
   ]
  },
  {
   "cell_type": "code",
   "execution_count": 76,
   "id": "1944581c-fe86-4a25-a7bf-880387e7b8a0",
   "metadata": {},
   "outputs": [],
   "source": [
    "costs = [\n",
    "    [90, 80, 75, 100, 100, 140, 120, 35, 210, 130],\n",
    "    [65, 35, 55, 165, 120, 55, 40, 45, 180, 220],\n",
    "    [225, 45, 90, 55, 140, 100, 60, 15, 140, 100],\n",
    "    [35, 20, 95, 315, 50, 80, 80, 35, 100, 60],\n",
    "    [10, 150, 90, 120, 40, 200, 90, 95, 300, 50],\n",
    "    [80, 40, 100, 30, 70, 150, 30, 15, 400, 90]\n",
    "]\n",
    "\n",
    "num_workers = len(costs)\n",
    "num_tasks = len(costs[0])\n",
    "\n",
    "team1 = [0, 1, 2]\n",
    "team2 = [3, 4, 5]\n",
    "team_min = 4\n",
    "team_max = 7"
   ]
  },
  {
   "attachments": {},
   "cell_type": "markdown",
   "id": "9b8b4dd9-605a-41d9-9b07-e68d5ebd1433",
   "metadata": {},
   "source": [
    "##### 6.2 MIP 솔버 선언"
   ]
  },
  {
   "cell_type": "code",
   "execution_count": 77,
   "id": "d2a8a499-ebf6-4b4f-ac59-c9e9ef720f5f",
   "metadata": {},
   "outputs": [],
   "source": [
    "solver = pywraplp.Solver.CreateSolver('SCIP')"
   ]
  },
  {
   "attachments": {},
   "cell_type": "markdown",
   "id": "8aefcc0a-dc54-4428-9c53-4b2c41d413a9",
   "metadata": {},
   "source": [
    "##### 6.3 변수 생성"
   ]
  },
  {
   "cell_type": "code",
   "execution_count": 78,
   "id": "6818c7db-dcc9-456b-8b5b-85526e0307c5",
   "metadata": {},
   "outputs": [],
   "source": [
    "x = {}\n",
    "for worker in range(num_workers):\n",
    "    for task in range(num_tasks):\n",
    "        x[worker, task] = solver.BoolVar(f'x[{worker},{task}]')"
   ]
  },
  {
   "attachments": {},
   "cell_type": "markdown",
   "id": "f568c0a3-e82d-4e52-a310-7c04c568149e",
   "metadata": {},
   "source": [
    "##### 6.4 제약조건 추가"
   ]
  },
  {
   "cell_type": "code",
   "execution_count": 79,
   "id": "e551b6eb-4d29-48c8-83d2-014e78d39e23",
   "metadata": {},
   "outputs": [
    {
     "data": {
      "text/plain": [
       "<ortools.linear_solver.pywraplp.Constraint; proxy of <Swig Object of type 'operations_research::MPConstraint *' at 0x000002B52B21CD20> >"
      ]
     },
     "execution_count": 79,
     "metadata": {},
     "output_type": "execute_result"
    }
   ],
   "source": [
    "# Constraint 1\n",
    "for worker in range(num_workers):\n",
    "    solver.Add(solver.Sum([x[worker, task] for task in range(num_tasks)]) >= 1)\n",
    "    solver.Add(solver.Sum([x[worker, task] for task in range(num_tasks)]) <= 3)\n",
    "    \n",
    "    \n",
    "# Constraint 2\n",
    "for task in range(num_tasks):\n",
    "    solver.Add(solver.Sum([x[worker, task] for worker in range(num_workers)]) == 1)\n",
    "    \n",
    "# Constraint 3\n",
    "team1_tasks = []\n",
    "for worker in team1:\n",
    "    for task in range(num_tasks):\n",
    "        team1_tasks.append(x[worker, task])\n",
    "solver.Add(solver.Sum(team1_tasks) >= team_min)\n",
    "solver.Add(solver.Sum(team1_tasks) <= team_max)\n",
    "\n",
    "\n",
    "team2_tasks = []\n",
    "for worker in team2:\n",
    "    for task in range(num_tasks):\n",
    "        team2_tasks.append(x[worker, task])\n",
    "########################## 빈칸 ##########################\n",
    "\"Team 2의 제약사항 추가\"\n",
    "##########################################################"
   ]
  },
  {
   "attachments": {},
   "cell_type": "markdown",
   "id": "cee2cb3d-db87-4385-ae76-924929a4a7e8",
   "metadata": {},
   "source": [
    "##### 6.5 목적함수 정의"
   ]
  },
  {
   "cell_type": "code",
   "execution_count": 80,
   "id": "5c7fcded-2c67-4fdd-bd80-38618e61e557",
   "metadata": {},
   "outputs": [],
   "source": [
    "objective_terms = []\n",
    "for worker in range(num_workers):\n",
    "    for task in range(num_tasks):\n",
    "        objective_terms.append(costs[worker][task] * x[worker, task])\n",
    "solver.Minimize(solver.Sum(objective_terms))"
   ]
  },
  {
   "attachments": {},
   "cell_type": "markdown",
   "id": "f6a87196-7614-466f-aa7e-8c8e2218b9f9",
   "metadata": {},
   "source": [
    "##### 6.6 솔버 호출"
   ]
  },
  {
   "cell_type": "code",
   "execution_count": 81,
   "id": "a2b7d021-3f1d-4a6a-a20e-b1247c6f729f",
   "metadata": {},
   "outputs": [],
   "source": [
    "status = solver.Solve()"
   ]
  },
  {
   "attachments": {},
   "cell_type": "markdown",
   "id": "ca76a933-909f-4d98-9da5-bf5b5f13be6a",
   "metadata": {},
   "source": [
    "##### 6.7 최적값 출력"
   ]
  },
  {
   "cell_type": "code",
   "execution_count": 82,
   "id": "475126b0-7d00-4df1-9be1-a7b6432b38ef",
   "metadata": {},
   "outputs": [
    {
     "name": "stdout",
     "output_type": "stream",
     "text": [
      "Total cost = 435.0\n",
      "\n",
      "Worker 0 assigned to task 2. Cost = 75\n",
      "Worker 1 assigned to task 5. Cost = 55\n",
      "Worker 1 assigned to task 6. Cost = 40\n",
      "Worker 2 assigned to task 7. Cost = 15\n",
      "Worker 3 assigned to task 1. Cost = 20\n",
      "Worker 3 assigned to task 8. Cost = 100\n",
      "Worker 4 assigned to task 0. Cost = 10\n",
      "Worker 4 assigned to task 4. Cost = 40\n",
      "Worker 4 assigned to task 9. Cost = 50\n",
      "Worker 5 assigned to task 3. Cost = 30\n",
      "Time = 5317 ms\n"
     ]
    }
   ],
   "source": [
    "if status == pywraplp.Solver.OPTIMAL or status == pywraplp.Solver.FEASIBLE:\n",
    "    print(f'Total cost = {solver.Objective().Value()}\\n')\n",
    "    for worker in range(num_workers):\n",
    "        for task in range(num_tasks):\n",
    "            if x[worker, task].solution_value() > 0.5:\n",
    "                print(f'Worker {worker} assigned to task {task}.' +\n",
    "                      f' Cost = {costs[worker][task]}')\n",
    "else:\n",
    "    print('No solution found.')\n",
    "print(f'Time = {solver.WallTime()} ms')"
   ]
  }
 ],
 "metadata": {
  "kernelspec": {
   "display_name": "Python 3 (ipykernel)",
   "language": "python",
   "name": "python3"
  },
  "language_info": {
   "codemirror_mode": {
    "name": "ipython",
    "version": 3
   },
   "file_extension": ".py",
   "mimetype": "text/x-python",
   "name": "python",
   "nbconvert_exporter": "python",
   "pygments_lexer": "ipython3",
   "version": "3.9.12"
  }
 },
 "nbformat": 4,
 "nbformat_minor": 5
}
