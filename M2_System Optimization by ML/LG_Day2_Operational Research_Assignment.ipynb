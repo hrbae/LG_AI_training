{
 "cells": [
  {
   "attachments": {},
   "cell_type": "markdown",
   "id": "f183ea38",
   "metadata": {},
   "source": [
    "<a href=\"https://colab.research.google.com/github/hrbae/LG_AI_training/blob/main/M2_System%20Optimization%20by%20ML/LG_Day2_Reinforcement%20Learning.ipynb\" target=\"_parent\"><img src=\"https://colab.research.google.com/assets/colab-badge.svg\" alt=\"Open In Colab\"/></a>"
   ]
  },
  {
   "attachments": {},
   "cell_type": "markdown",
   "id": "cd8a3df0",
   "metadata": {},
   "source": [
    "#### 과제. 작업자 배정 문제 - 추가 제약사항 "
   ]
  },
  {
   "attachments": {},
   "cell_type": "markdown",
   "id": "3dbfdda1",
   "metadata": {},
   "source": [
    "- 목적: 총 비용 최소화\n",
    "- 제약조건 1: 각 작업자를 최소 1개, 최대 3개 작업에 할당 (기존) -> 각 작업자를 최소 2개, 최대 3개 작업에 할당 (변경)\n",
    "- 제약조건 2: 각 작업은 최소 1명의 작업자에게만 할당이 되어야 함   \n",
    "- 제약조건 3: 작업자는 2개의 팀으로 분할되며 (기존) -> 작업자는 3개의 팀으로 분할되며 (변경), 각 팀은 최소 2개 이상 최대 4개까지 작업할당이 가능\n",
    "\n",
    "| Worker | Team   | Task 0 | Task 1 | Task 2 | Task 3 | Task 4 | Task 5 | Task 6 | Task 7 | Task 8 | Task 9 | Task 10 |\n",
    "| ------ | ------ | ------ | ------ | ------ | ------ | ------ | ------ | ------ | ------ | ------ | ------ | ------  |\n",
    "| 0      | Team 1 | 90     | 80     | 75     | 100    | 100    | 140    | 120    | 35     | 210    | 130    | 80      |\n",
    "| 1      | Team 1 | 65     | 35     | 55     | 165    | 120    | 55     | 40     | 45     | 180    | 220    | 130     |\n",
    "| 2      | Team 2 | 225    | 45     | 90     | 55     | 140    | 100    | 60     | 15     | 140    | 100    | 20      |\n",
    "| 3      | Team 2 | 35     | 20     | 95     | 315    | 50     | 80     | 80     | 35     | 100    | 60     | 90      |\n",
    "| 4      | Team 3 | 10     | 150    | 90     | 120    | 40     | 200    | 90     | 95     | 300    | 50     | 100     |\n",
    "| 5      | Team 3 | 80     | 40     | 100    | 30     | 70     | 150    | 30     | 15     | 400    | 90     | 150     |"
   ]
  },
  {
   "attachments": {},
   "cell_type": "markdown",
   "id": "e5d2e5d9",
   "metadata": {},
   "source": [
    "##### 기존 코드"
   ]
  },
  {
   "cell_type": "code",
   "execution_count": 5,
   "id": "05401f45",
   "metadata": {},
   "outputs": [],
   "source": [
    "from ortools.linear_solver import pywraplp\n",
    "from ortools.constraint_solver import pywrapcp"
   ]
  },
  {
   "cell_type": "code",
   "execution_count": 7,
   "id": "4521a301",
   "metadata": {},
   "outputs": [
    {
     "name": "stdout",
     "output_type": "stream",
     "text": [
      "Total cost = 265.0\n",
      "\n",
      "Worker 0 assigned to task 2. Cost = 75\n",
      "Worker 1 assigned to task 5. Cost = 55\n",
      "Worker 2 assigned to task 1. Cost = 45\n",
      "Worker 3 assigned to task 4. Cost = 50\n",
      "Worker 4 assigned to task 0. Cost = 10\n",
      "Worker 5 assigned to task 3. Cost = 30\n",
      "Time = 8 ms\n"
     ]
    }
   ],
   "source": [
    "costs = [\n",
    "    [90, 80, 75, 100, 100, 140, 120, 35, 210, 130],\n",
    "    [65, 35, 55, 165, 120, 55, 40, 45, 180, 220],\n",
    "    [225, 45, 90, 55, 140, 100, 60, 15, 140, 100],\n",
    "    [35, 20, 95, 315, 50, 80, 80, 35, 100, 60],\n",
    "    [10, 150, 90, 120, 40, 200, 90, 95, 300, 50],\n",
    "    [80, 40, 100, 30, 70, 150, 30, 15, 400, 90]\n",
    "]\n",
    "\n",
    "num_workers = \"\"\"과제 조건 반영\"\"\"\n",
    "num_tasks = \"\"\"과제 조건 반영\"\"\"\n",
    "min_task_for_worker = \"\"\"과제 조건 반영\"\"\"\n",
    "max_task_for_worker = \"\"\"과제 조건 반영\"\"\"\n",
    "team1 = \"\"\"과제 조건 반영\"\"\"\n",
    "team2 = \"\"\"과제 조건 반영\"\"\"\n",
    "team3 = \"\"\"과제 조건 반영\"\"\"\n",
    "team_min = \"\"\"과제 조건 반영\"\"\"\n",
    "team_max = \"\"\"과제 조건 반영\"\"\"\n",
    "\n",
    "\n",
    "solver = pywraplp.Solver.CreateSolver('SCIP')\n",
    "\n",
    "x = {}\n",
    "for worker in range(num_workers):\n",
    "    for task in range(num_tasks):\n",
    "        x[worker, task] = solver.BoolVar(f'x[{worker},{task}]')\n",
    "        \n",
    "# Constraint 1\n",
    "for worker in range(num_workers):\n",
    "    solver.Add(solver.Sum([x[worker, task] for task in range(num_tasks)]) >= min_task_for_worker)\n",
    "    solver.Add(solver.Sum([x[worker, task] for task in range(num_tasks)]) <= max_task_for_worker)\n",
    "    \n",
    "    \n",
    "# Constraint 2\n",
    "for task in range(num_tasks):\n",
    "    solver.Add(solver.Sum([x[worker, task] for worker in range(num_workers)]) == 1)\n",
    "    \n",
    "# Constraint 3\n",
    "team1_tasks = []\n",
    "for worker in team1:\n",
    "    for task in range(num_tasks):\n",
    "        team1_tasks.append(x[worker, task])\n",
    "solver.Add(solver.Sum(team1_tasks) >= team_min)\n",
    "solver.Add(solver.Sum(team1_tasks) <= team_max)\n",
    "\n",
    "\n",
    "team2_tasks = []\n",
    "for worker in team2:\n",
    "    for task in range(num_tasks):\n",
    "        team2_tasks.append(x[worker, task])\n",
    "########################## 빈칸 ##########################\n",
    "solver.Add(solver.Sum(team2_tasks) >= team_min)\n",
    "solver.Add(solver.Sum(team2_tasks) <= team_max)\n",
    "##########################################################\n",
    "\n",
    "objective_terms = []\n",
    "for worker in range(num_workers):\n",
    "    for task in range(num_tasks):\n",
    "        objective_terms.append(costs[worker][task] * x[worker, task])\n",
    "solver.Minimize(solver.Sum(objective_terms))\n",
    "\n",
    "status = solver.Solve()\n",
    "\n",
    "if status == pywraplp.Solver.OPTIMAL or status == pywraplp.Solver.FEASIBLE:\n",
    "    print(f'Total cost = {solver.Objective().Value()}\\n')\n",
    "    for worker in range(num_workers):\n",
    "        for task in range(num_tasks):\n",
    "            if x[worker, task].solution_value() > 0.5:\n",
    "                print(f'Worker {worker} assigned to task {task}.' +\n",
    "                      f' Cost = {costs[worker][task]}')\n",
    "else:\n",
    "    print('No solution found.')\n",
    "print(f'Time = {solver.WallTime()} ms')"
   ]
  }
 ],
 "metadata": {
  "kernelspec": {
   "display_name": "Python 3 (ipykernel)",
   "language": "python",
   "name": "python3"
  },
  "language_info": {
   "codemirror_mode": {
    "name": "ipython",
    "version": 3
   },
   "file_extension": ".py",
   "mimetype": "text/x-python",
   "name": "python",
   "nbconvert_exporter": "python",
   "pygments_lexer": "ipython3",
   "version": "3.9.19"
  }
 },
 "nbformat": 4,
 "nbformat_minor": 5
}
