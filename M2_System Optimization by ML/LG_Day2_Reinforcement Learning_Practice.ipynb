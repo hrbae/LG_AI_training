{
 "cells": [
  {
   "attachments": {},
   "cell_type": "markdown",
   "id": "f183ea38",
   "metadata": {},
   "source": [
    "<a href=\"https://colab.research.google.com/github/hrbae/LG_AI_training/blob/main/M2_System%20Optimization%20by%20ML/LG_Day2_Reinforcement%20Learning_Practice.ipynb\" target=\"_parent\"><img src=\"https://colab.research.google.com/assets/colab-badge.svg\" alt=\"Open In Colab\"/></a>"
   ]
  },
  {
   "attachments": {},
   "cell_type": "markdown",
   "id": "c446c008-7114-4d4f-bd87-ca7ce5c0ba68",
   "metadata": {},
   "source": [
    "### LG 실습교육 (Reinforcement Learning & Python)    \n",
    "\n",
    "**강화학습이란?**      \n",
    "\n",
    "- 학습주체(Agent)가 행동과 경험을 반복하면서 최적의 답을 찾아나가는 학습 방법      \n",
    "- 최적의 답을 찾아간다는 것은 Agent가 보상을 최대로 받을 수 있는 Action을 발견한다는 것을 의미함     \n",
    "\n",
    "**강화학습의 활용**     \n",
    "\n",
    "- 로보틱스, 게임, 스케쥴링 등 기존의 최적화 방법론으로는 해결하기 힘들었던 분야에 적용이 가능   \n",
    "\n",
    "**강화학습의 구성요소**     \n",
    "\n",
    "강화학습은 Agent가 Environment와 상호적으로 작용하며 학습을 진행.       \n",
    "- Agent : 강화학습의 학습 주체로써, 주어진 환경(Environment)에서 행동(Action)을 반복을 함     \n",
    "- Environment : 강화학습이 학습을 하는 공간을 포함, 강화학습에 필요한 모든 구성요소를 복합적으로 의미함     \n",
    "- Policy : Agent로 하여금 보상(Reward) 기댓값을 최대화시키는 전략을 의미함       \n",
    "\n",
    "**강화학습 구성요소**     \n",
    "- 행동, Action($a_{t}$) : Agent가 학습 중에 선택할 수 있는 행동      \n",
    "- 상태, State($s_{t}$) : Agent가 학습 중에 처한 상황을 의미함     \n",
    "- 보상, Reward($r_{t}$) : Agent가 행동을 할 때마다 Environment는 해당 행동에 대하여 보상, 벌칙을 부여함       \n",
    "- 감가율 discount factor($\\gamma$) : 미래의 보상에 대해 감가율을 적용하는 Parameter         \n",
    "- 학습율 learning rate($\\alpha$) : 학습률의 의미로, policy를 update할 때마다 어느정도로 update할지를 결정    "
   ]
  },
  {
   "attachments": {},
   "cell_type": "markdown",
   "id": "cd8a3df0",
   "metadata": {},
   "source": [
    "#### 1. 작업자 배정 문제 - RL 활용    "
   ]
  },
  {
   "attachments": {},
   "cell_type": "markdown",
   "id": "3dbfdda1",
   "metadata": {},
   "source": [
    "- 목적: 총 비용 최소화\n",
    "- 제약조건 1: 각 작업자를 최소 1개, 최대 3개 작업에 할당     \n",
    "- 제약조건 2: 각 작업은 최소 1명의 작업자에게만 할당이 되어야 함   \n",
    "- 제약조건 3: 작업자는 2개의 팀으로 분할되며, 각 팀은 최소 4개 이상 최대 7개 이하까지 작업할당이 가능\n",
    "\n",
    "| Worker | Team   | Task 0 | Task 1 | Task 2 | Task 3 | Task 4 | Task 5 | Task 6 | Task 7 | Task 8 | Task 9 |\n",
    "| ------ | ------ | ------ | ------ | ------ | ------ | ------ | ------ | ------ | ------ | ------ | ------ |\n",
    "| 0      | Team 1 | 90     | 80     | 75     | 100    | 100    | 140    | 120    | 35     | 210    | 130    |\n",
    "| 1      | Team 1 | 65     | 35     | 55     | 165    | 120    | 55     | 40     | 45     | 180    | 220    |\n",
    "| 2      | Team 1 | 225    | 45     | 90     | 55     | 140    | 100    | 60     | 15     | 140    | 100    |\n",
    "| 3      | Team 2 | 35     | 20     | 95     | 315    | 50     | 80     | 80     | 35     | 100    | 60     |\n",
    "| 4      | Team 2 | 10     | 150    | 90     | 120    | 40     | 200    | 90     | 95     | 300    | 50     |\n",
    "| 5      | Team 2 | 80     | 40     | 100    | 30     | 70     | 150    | 30     | 15     | 400    | 90     |"
   ]
  },
  {
   "attachments": {},
   "cell_type": "markdown",
   "id": "e5d2e5d9",
   "metadata": {},
   "source": [
    "##### 1.1 강화학습 기본환경 구성"
   ]
  },
  {
   "attachments": {},
   "cell_type": "markdown",
   "id": "d6eaddcd",
   "metadata": {},
   "source": [
    "<img src=https://i.imgur.com/wAhomDq.png width=\"800\" height =\"500\">"
   ]
  },
  {
   "attachments": {},
   "cell_type": "markdown",
   "id": "219b84cf",
   "metadata": {},
   "source": [
    "**보상정책**     \n",
    "- 제약조건 1, 제약조건 3을 불만족할 경우 penalty 부여     \n",
    "- 작업자 cost가 클수록 penalty 부여    \n",
    "- 제약조건 2의 경우 Agent가 한명의 작업자만 선택하게 하였기 때문에 따로 설정할 필요 없음    "
   ]
  },
  {
   "attachments": {},
   "cell_type": "markdown",
   "id": "de2a3900",
   "metadata": {},
   "source": [
    "##### 1.2 강화학습 코드 구현 1    \n",
    "- 기본설정 및 행동전략 등에 대해서는 동일   \n",
    "- state를 index로 표현하기 위해 문자형(string)으로 변환하여 진행   "
   ]
  },
  {
   "cell_type": "code",
   "execution_count": 1,
   "id": "b400045b",
   "metadata": {},
   "outputs": [],
   "source": [
    "import numpy as np\n",
    "import random\n",
    "from collections import defaultdict\n",
    "import copy\n",
    "from types import MethodType"
   ]
  },
  {
   "attachments": {},
   "cell_type": "markdown",
   "id": "1bc1599b",
   "metadata": {},
   "source": [
    "##### 1.3 강화학습 함수 정의     \n",
    "- 비용 설정   \n",
    "- $\\epsilon$ 설정    \n",
    "- $\\gamma$ 설정    \n",
    "- $\\alpha$ 설정     \n",
    "- $a_{t}$ 설정    \n",
    "- 제약사항 정의    \n",
    "- Q Table 정의"
   ]
  },
  {
   "cell_type": "code",
   "execution_count": 2,
   "id": "28e3c0ef",
   "metadata": {},
   "outputs": [],
   "source": [
    "team1 = [0, 1, 2]\n",
    "team2 = [3, 4, 5]\n",
    "team_min = 4\n",
    "team_max = 7\n",
    "w_minimum = 1\n",
    "w_maximum = 3\n",
    "\n",
    "constraints = []\n",
    "constraints.append(team1)\n",
    "constraints.append(team2)\n",
    "constraints.append(team_min)\n",
    "constraints.append(team_max)\n",
    "constraints.append(w_minimum)\n",
    "constraints.append(w_maximum)\n",
    "\n",
    "costs = [\n",
    "    [90, 80, 75, 100, 100, 140, 120, 35, 210, 130],\n",
    "    [65, 35, 55, 165, 120, 55, 40, 45, 180, 220],\n",
    "    [225, 45, 90, 55, 140, 100, 60, 15, 140, 100],\n",
    "    [35, 20, 95, 315, 50, 80, 80, 35, 100, 60],\n",
    "    [10, 150, 90, 120, 40, 200, 90, 95, 300, 50],\n",
    "    [80, 40, 100, 30, 70, 150, 30, 15, 400, 90]\n",
    "]\n",
    "\n",
    "num_workers = len(costs)\n",
    "num_tasks = 3 "
   ]
  },
  {
   "cell_type": "code",
   "execution_count": 3,
   "id": "5f4df089",
   "metadata": {},
   "outputs": [],
   "source": [
    "class taskAllocation:\n",
    "    \n",
    "    def __init__(self, epsilon, discount_factor, learning_rate, constraints):\n",
    "        \n",
    "        self.epsilon = epsilon\n",
    "        self.discount_factor = discount_factor\n",
    "        self.learning_rate = learning_rate\n",
    "        \n",
    "        self.Action_Index = [0, 1, 2, 3, 4, 5]\n",
    "        \n",
    "        ########################## 빈칸 ##########################\n",
    "        self.Action = \"Action 정의\"\n",
    "        ##########################################################\n",
    "        \n",
    "        self.team1 , self.team2 , self.team_min , self.team_max , self.w_minimum , self.w_maximum  = constraints\n",
    "        self.QTable = defaultdict(lambda : [0.0, 0.0, 0.0, 0.0, 0.0, 0.0])\n",
    "        \n",
    "epsilon = 0.2\n",
    "discount_factor = 0.9\n",
    "learning_rate = 0.2\n",
    "\n",
    "Allocation = taskAllocation(epsilon, discount_factor, learning_rate, constraints)"
   ]
  },
  {
   "attachments": {},
   "cell_type": "markdown",
   "id": "5ad2cb09",
   "metadata": {},
   "source": [
    "##### 1.4 Q를 최대로 하는 행동선택 정의         \n",
    "- **def** arg_max_Moving, **def** Get_Moving 생성    \n",
    "- 0~1사이의 난수 생성     \n",
    "    - 생성된 난수가 $\\epsilon$보다 작을 경우 임의 $a_{t}$ 선택 (탐험)   \n",
    "    - 생성된 난수가 $\\epsilon$보다 클 경우 Q를 최대로 하는 $a_{t}$ 선택 (탐욕)    "
   ]
  },
  {
   "cell_type": "code",
   "execution_count": 4,
   "id": "938cec46",
   "metadata": {},
   "outputs": [],
   "source": [
    "def arg_max_Moving(self,state_Moving):\n",
    "    \n",
    "    max_index_list = []\n",
    "    max_value = state_Moving[0]\n",
    "    \n",
    "    for index, value in enumerate(state_Moving):\n",
    "        \n",
    "        if value > max_value:\n",
    "            \n",
    "            max_index_list.clear()\n",
    "            max_value = value\n",
    "            max_index_list.append(index)\n",
    "            \n",
    "        elif value == max_value:\n",
    "            \n",
    "            max_index_list.append(index)\n",
    "            \n",
    "    return random.choice(max_index_list)\n",
    "    \n",
    "Allocation.arg_max_Moving = MethodType(arg_max_Moving, Allocation)"
   ]
  },
  {
   "cell_type": "code",
   "execution_count": 5,
   "id": "96f7bab9",
   "metadata": {},
   "outputs": [],
   "source": [
    "def Get_Action(self, state):\n",
    "    if np.random.rand() < self.epsilon:    \n",
    "        ########################## 빈칸 ##########################\n",
    "        Action = \"탐험에 해당하는 action 선택\"\n",
    "        ##########################################################\n",
    "        \n",
    "    else:\n",
    "        state_str = [str(x) for x in state]\n",
    "        state_str2 = '.'.join(state_str)\n",
    "        state_Moving = self.QTable[state_str2]\n",
    "        ########################## 빈칸 ##########################\n",
    "        Action = \"탐욕에 해당하는 action 선택\"\n",
    "        ##########################################################\n",
    "        \n",
    "    return Action\n",
    "\n",
    "Allocation.Get_Action = MethodType(Get_Action, Allocation)"
   ]
  },
  {
   "attachments": {},
   "cell_type": "markdown",
   "id": "2f9d0932",
   "metadata": {},
   "source": [
    "##### 1.5 Agent의 행동에 따른 상태 변화 함수 정의      \n",
    "- **def** Get_State 정의    \n",
    "- Agent의 이동방향에 따라서 다음 상태($s_{t+1}$) 생성       \n",
    "- 제약사항을 지키지 못 할 경우 penalty 부여  \n",
    "<tab> - Constraint 1: 각 작업자 최소 1개, 최대 4개 작업에 할당 <br>\n",
    "<tab> - Constraint 2: 작업자는 2개의 팀으로 분할되며, 각 팀은 최소 4개이상 최대 7개 이하까지 작업할당이 가능\n",
    "- 정상 범위로 진행 했다면 cost 계산하여 반영"
   ]
  },
  {
   "cell_type": "code",
   "execution_count": 6,
   "id": "17a36fc6",
   "metadata": {},
   "outputs": [],
   "source": [
    "def Get_State(self, x, costs, steps, Action, team1, team2):\n",
    "    \n",
    "    ## Constraint 1: 각 작업자 최소 1개, 최대 4개 작업에 할당\n",
    "    ########################## 빈칸 ##########################\n",
    "    \"제약 사항 1 구현\"\n",
    "    ##########################################################\n",
    "    \n",
    "    \n",
    "    ##  Constraint 2: 작업자는 2개의 팀으로 분할되며, 각 팀은 최소 2개이상 최대 7개 이하까지 작업할당이 가능\n",
    "    if sum(x[team1,:].sum(axis=1)) < self.team_min:\n",
    "        penalty3_1 = -10\n",
    "    else:\n",
    "        penalty3_1 = 0\n",
    "    if sum(x[team1,:].sum(axis=1)) > self.team_max:\n",
    "        penalty3_2 = -10\n",
    "    else:\n",
    "        penalty3_2 = 0\n",
    "    if sum(x[team2,:].sum(axis=1)) < self.team_min:\n",
    "        penalty3_3 = -10\n",
    "    else:\n",
    "        penalty3_3 = 0\n",
    "    if sum(x[team2,:].sum(axis=1)) > self.team_max:\n",
    "        penalty3_4 = -10\n",
    "    else:\n",
    "        penalty3_4 = 0\n",
    "        \n",
    "    ########################## 빈칸 ##########################\n",
    "    cost = \"현재 action의 cost\"\n",
    "    ##########################################################\n",
    "    reward = penalty1_1 + penalty1_2 + penalty3_1 + penalty3_2 + penalty3_3 + penalty3_4 + cost\n",
    "    \n",
    "    return reward\n",
    "\n",
    "Allocation.Get_State = MethodType(Get_State, Allocation)"
   ]
  },
  {
   "attachments": {},
   "cell_type": "markdown",
   "id": "ad2b0103",
   "metadata": {},
   "source": [
    "##### 1.6 Agent의 행동에 Q Table 학습    \n",
    "- $Q[s,a]$ 업데이트 진행    \n",
    "$$\n",
    "Q(s_{t},a_{t})=Q(s_{t},a_{t})+ \\alpha [r_{t+1}+ \\gamma max_{a}Q(s_{t+1},a)-Q(s_{t},a_{t})]\n",
    "$$       "
   ]
  },
  {
   "cell_type": "code",
   "execution_count": 7,
   "id": "5635c6be",
   "metadata": {},
   "outputs": [],
   "source": [
    "def Q_learning(self, state, next_state, reward):\n",
    "    \n",
    "    Action = next_state[-1]\n",
    "    state_str = [str(x) for x in state]\n",
    "    state_str2 = '.'.join(state_str)\n",
    "    ########################## 빈칸 ##########################\n",
    "    Q1 = \"현재 state q-value\"\n",
    "    ##########################################################\n",
    "    \n",
    "    nextstate_str = [str(x) for x in next_state]\n",
    "    nextstate_str2 = '.'.join(nextstate_str)\n",
    "    ########################## 빈칸 ##########################\n",
    "    Q2 = \"미래 state q-value\"\n",
    "    ##########################################################\n",
    "    \n",
    "    ########################## 빈칸 ##########################\n",
    "    \"q-value 업데이트\"\n",
    "    ##########################################################\n",
    "    \n",
    "Allocation.Q_learning = MethodType(Q_learning, Allocation)"
   ]
  },
  {
   "attachments": {},
   "cell_type": "markdown",
   "id": "2fee80a6",
   "metadata": {},
   "source": [
    "##### 1.7 강화학습 진행 1   \n",
    "- $\\epsilon$=0.2    \n",
    "- $\\gamma$=0.9    \n",
    "- $\\alpha$=0.2      \n",
    "- 먼저, 최대 task를 3으로 설정한 후 진행     \n",
    "- Episode 수는 500으로 진행   "
   ]
  },
  {
   "cell_type": "code",
   "execution_count": 8,
   "id": "c086ebf0",
   "metadata": {},
   "outputs": [
    {
     "ename": "IndexError",
     "evalue": "only integers, slices (`:`), ellipsis (`...`), numpy.newaxis (`None`) and integer or boolean arrays are valid indices",
     "output_type": "error",
     "traceback": [
      "\u001b[1;31m---------------------------------------------------------------------------\u001b[0m",
      "\u001b[1;31mIndexError\u001b[0m                                Traceback (most recent call last)",
      "\u001b[1;32mc:\\Users\\test\\Dropbox\\PersonalComputer\\LG 교육\\LG_Day2_Reinforcement Learning2_실습용.ipynb Cell 21\u001b[0m in \u001b[0;36m1\n\u001b[0;32m     <a href='vscode-notebook-cell:/c%3A/Users/test/Dropbox/PersonalComputer/LG%20%EA%B5%90%EC%9C%A1/LG_Day2_Reinforcement%20Learning2_%EC%8B%A4%EC%8A%B5%EC%9A%A9.ipynb#X26sZmlsZQ%3D%3D?line=15'>16</a>\u001b[0m \u001b[39mwhile\u001b[39;00m \u001b[39mTrue\u001b[39;00m:\n\u001b[0;32m     <a href='vscode-notebook-cell:/c%3A/Users/test/Dropbox/PersonalComputer/LG%20%EA%B5%90%EC%9C%A1/LG_Day2_Reinforcement%20Learning2_%EC%8B%A4%EC%8A%B5%EC%9A%A9.ipynb#X26sZmlsZQ%3D%3D?line=17'>18</a>\u001b[0m     Action \u001b[39m=\u001b[39m Allocation\u001b[39m.\u001b[39mGet_Action(state)\n\u001b[1;32m---> <a href='vscode-notebook-cell:/c%3A/Users/test/Dropbox/PersonalComputer/LG%20%EA%B5%90%EC%9C%A1/LG_Day2_Reinforcement%20Learning2_%EC%8B%A4%EC%8A%B5%EC%9A%A9.ipynb#X26sZmlsZQ%3D%3D?line=18'>19</a>\u001b[0m     x[Action, steps] \u001b[39m+\u001b[39m\u001b[39m=\u001b[39m \u001b[39m1\u001b[39m\n\u001b[0;32m     <a href='vscode-notebook-cell:/c%3A/Users/test/Dropbox/PersonalComputer/LG%20%EA%B5%90%EC%9C%A1/LG_Day2_Reinforcement%20Learning2_%EC%8B%A4%EC%8A%B5%EC%9A%A9.ipynb#X26sZmlsZQ%3D%3D?line=20'>21</a>\u001b[0m     reward \u001b[39m=\u001b[39m Allocation\u001b[39m.\u001b[39mGet_State(x, costs, steps, Action, team1, team2)\n\u001b[0;32m     <a href='vscode-notebook-cell:/c%3A/Users/test/Dropbox/PersonalComputer/LG%20%EA%B5%90%EC%9C%A1/LG_Day2_Reinforcement%20Learning2_%EC%8B%A4%EC%8A%B5%EC%9A%A9.ipynb#X26sZmlsZQ%3D%3D?line=21'>22</a>\u001b[0m     next_state \u001b[39m=\u001b[39m copy\u001b[39m.\u001b[39mdeepcopy(state)\n",
      "\u001b[1;31mIndexError\u001b[0m: only integers, slices (`:`), ellipsis (`...`), numpy.newaxis (`None`) and integer or boolean arrays are valid indices"
     ]
    }
   ],
   "source": [
    "E = []\n",
    "rewardList = []\n",
    "costList = []\n",
    "\n",
    "num_episode = 500\n",
    "for e in range(num_episode):\n",
    "    \n",
    "    state = []\n",
    "    x = np.zeros((num_workers, num_tasks))\n",
    "        \n",
    "    total_reward = 0 \n",
    "    steps = 0\n",
    "    total_cost = 0\n",
    "    \n",
    "    while True:\n",
    "    \n",
    "        Action = Allocation.Get_Action(state)\n",
    "        x[Action, steps] += 1\n",
    "        \n",
    "        reward = Allocation.Get_State(x, costs, steps, Action, team1, team2)\n",
    "        next_state = copy.deepcopy(state)\n",
    "        next_state.append(Action)\n",
    "        Allocation.Q_learning(state, next_state, reward)\n",
    "        \n",
    "        total_reward += reward\n",
    "        state = copy.deepcopy(next_state)\n",
    "        total_cost += costs[Action][steps]\n",
    "        steps += 1\n",
    "\n",
    "        \n",
    "        if steps == num_tasks:\n",
    "            costList.append(total_cost)\n",
    "            E.append(e)\n",
    "            rewardList.append(total_reward)\n",
    "            \n",
    "            break"
   ]
  },
  {
   "attachments": {},
   "cell_type": "markdown",
   "id": "b611239d",
   "metadata": {},
   "source": [
    "**학습결과 확인**"
   ]
  },
  {
   "cell_type": "code",
   "execution_count": null,
   "id": "81c0b818",
   "metadata": {},
   "outputs": [
    {
     "data": {
      "text/plain": [
       "[<matplotlib.lines.Line2D at 0x27d2fb678b0>]"
      ]
     },
     "execution_count": 30,
     "metadata": {},
     "output_type": "execute_result"
    },
    {
     "data": {
      "image/png": "[encoded data removed]",
      "text/plain": [
       "<Figure size 640x480 with 1 Axes>"
      ]
     },
     "metadata": {},
     "output_type": "display_data"
    }
   ],
   "source": [
    "import pylab\n",
    "pylab.plot(E, rewardList,'b')"
   ]
  },
  {
   "attachments": {},
   "cell_type": "markdown",
   "id": "4ed54fae",
   "metadata": {},
   "source": [
    "**최소 cost 출력**"
   ]
  },
  {
   "cell_type": "code",
   "execution_count": null,
   "id": "11cbeb43",
   "metadata": {},
   "outputs": [
    {
     "data": {
      "text/plain": [
       "85"
      ]
     },
     "execution_count": 31,
     "metadata": {},
     "output_type": "execute_result"
    }
   ],
   "source": [
    "min(costList)"
   ]
  },
  {
   "attachments": {},
   "cell_type": "markdown",
   "id": "9d79e0b9",
   "metadata": {},
   "source": [
    "**QTable 확인**"
   ]
  },
  {
   "cell_type": "code",
   "execution_count": null,
   "id": "204dc18a",
   "metadata": {},
   "outputs": [
    {
     "name": "stdout",
     "output_type": "stream",
     "text": [
      "[-131.39761372425167, -132.45042688625483, -237.63731539967998, -128.80221501083955, -126.74999973079072, -130.48385014714057]\n"
     ]
    }
   ],
   "source": [
    "print(Allocation.QTable[\"\"])"
   ]
  },
  {
   "cell_type": "code",
   "execution_count": null,
   "id": "25c975f0",
   "metadata": {},
   "outputs": [
    {
     "name": "stdout",
     "output_type": "stream",
     "text": [
      "[-34.2, -27.0, -39.6, -23.0, -39.6, -24.0]\n"
     ]
    }
   ],
   "source": [
    "print(Allocation.QTable[\"1.1\"])"
   ]
  },
  {
   "attachments": {},
   "cell_type": "markdown",
   "id": "6f76f5e0",
   "metadata": {},
   "source": [
    "##### 1.8 강화학습 진행 2 \n",
    "- $\\epsilon$=0.2    \n",
    "- $\\gamma$=0.9    \n",
    "- $\\alpha$=0.2      \n",
    "- 최대 task를 9로 설정한 후 진행    \n",
    "- Episode 수를 10,000으로 증가   "
   ]
  },
  {
   "cell_type": "code",
   "execution_count": null,
   "id": "71b5b1f1",
   "metadata": {},
   "outputs": [],
   "source": [
    "# Allocation = taskAllocation(epsilon, discount_factor, learning_rate, constraints)\n",
    "Allocation.QTable = defaultdict(lambda : [0.0, 0.0, 0.0, 0.0, 0.0, 0.0])\n",
    "Allocation.epsilon = 0.2\n",
    "Allocation.discount_factor = 0.9\n",
    "Allocation.learning_rate = 0.2\n",
    "\n",
    "num_workers = len(costs)\n",
    "num_tasks = len(costs[0])\n",
    "num_episode = 50000\n",
    "\n",
    "E = []\n",
    "rewardList = []\n",
    "costList = []\n",
    "\n",
    "for e in range(num_episode):\n",
    "    \n",
    "    state = []\n",
    "    x = np.zeros((num_workers, num_tasks))\n",
    "        \n",
    "    total_reward = 0 \n",
    "    steps = 0\n",
    "    total_cost = 0\n",
    "    \n",
    "    while True:\n",
    "    \n",
    "        Action = Allocation.Get_Action(state)\n",
    "        x[Action, steps] += 1\n",
    "        \n",
    "        reward = Allocation.Get_State(x, costs, steps, Action, team1, team2)\n",
    "        next_state = copy.deepcopy(state)\n",
    "        next_state.append(Action)\n",
    "        Allocation.Q_learning(state, next_state, reward)\n",
    "        \n",
    "        total_reward += reward\n",
    "        state = copy.deepcopy(next_state)\n",
    "        total_cost += costs[Action][steps]\n",
    "        \n",
    "        steps += 1\n",
    "\n",
    "        \n",
    "        if steps == num_tasks:\n",
    "            costList.append(total_cost)\n",
    "            E.append(e)\n",
    "            rewardList.append(total_reward)\n",
    "            \n",
    "            break"
   ]
  },
  {
   "attachments": {},
   "cell_type": "markdown",
   "id": "7f67b869",
   "metadata": {},
   "source": [
    "**학습결과 확인**"
   ]
  },
  {
   "cell_type": "code",
   "execution_count": null,
   "id": "3c4f7c2a",
   "metadata": {},
   "outputs": [
    {
     "data": {
      "text/plain": [
       "[<matplotlib.lines.Line2D at 0x27d2fb6a670>]"
      ]
     },
     "execution_count": 35,
     "metadata": {},
     "output_type": "execute_result"
    },
    {
     "data": {
      "image/png": "[encoded data removed]",
      "text/plain": [
       "<Figure size 640x480 with 1 Axes>"
      ]
     },
     "metadata": {},
     "output_type": "display_data"
    }
   ],
   "source": [
    "pylab.plot(E, rewardList,'b')       "
   ]
  },
  {
   "attachments": {},
   "cell_type": "markdown",
   "id": "8f3e37b2",
   "metadata": {},
   "source": [
    "최소 코스트"
   ]
  },
  {
   "cell_type": "code",
   "execution_count": null,
   "id": "b4118a69",
   "metadata": {},
   "outputs": [
    {
     "data": {
      "text/plain": [
       "405"
      ]
     },
     "execution_count": 36,
     "metadata": {},
     "output_type": "execute_result"
    }
   ],
   "source": [
    "min(costList)"
   ]
  },
  {
   "attachments": {},
   "cell_type": "markdown",
   "id": "f77e0b3c",
   "metadata": {},
   "source": [
    "- 강화학습이 더 좋은 조건을 찾아낸 것을 확인할 수 있음   "
   ]
  },
  {
   "attachments": {},
   "cell_type": "markdown",
   "id": "2468e5ed-7433-43e6-ab2c-ee99e7825271",
   "metadata": {},
   "source": [
    "#### 2. 강화학습 예시 문제 - 경로 생성   "
   ]
  },
  {
   "attachments": {},
   "cell_type": "markdown",
   "id": "31e7e6b1-6d47-47a8-91ca-2e5154c027f5",
   "metadata": {},
   "source": [
    "**강화학습을 활용하여 선박이 목적지까지 가는 경로를 찾는 문제를 풀고자 함**\n",
    "- Agent : 선박     \n",
    "- Action : 방향선택     \n",
    "- Environment : 해역     \n",
    "- Reward : 목적지를 찾을 경우 부여 (실패할 경우에는 Penalty를 부여)        "
   ]
  },
  {
   "attachments": {},
   "cell_type": "markdown",
   "id": "4bb0831f-c5fd-4bf5-90a6-24c0d2f5a666",
   "metadata": {},
   "source": [
    "**강화학습 진행 단계**       \n",
    "\n",
    "1. Agent의 초기 State($s_{1}$) 결정    \n",
    "2. Agent Action($a_{1}$) 실행   \n",
    "3. Environment로부터 Action($a_{1}$)에 따른 Reward($r_{1}$) 수령    \n",
    "    - 목적지로부터 가까워졌을 경우에는 +1, 멀어졌을 경우에는 -1점     \n",
    "4. Agent는 다음 State($s_{2}$)로 이동\n",
    "\n",
    "- 위 2~4번의 step을 목적지를 찾을 때까지 반복    \n",
    "- 만약 학습과정에서 강제 종료(Break)조건을 주었을 경우, 상황에 따라 학습을 강제 종료하고 새로운 학습 시작    \n",
    "- Agent가 학습을 반복할때마다 Policy가 Update되면서 보상을 최대로 하는 정답을 찾을 수가 있음"
   ]
  },
  {
   "attachments": {},
   "cell_type": "markdown",
   "id": "fdabd04c",
   "metadata": {},
   "source": [
    "<img src=https://i.imgur.com/yHF8Gvr.png width=\"600\" height = \"400\">"
   ]
  },
  {
   "attachments": {},
   "cell_type": "markdown",
   "id": "2cc85075-8fc4-4b87-a051-446e2220e42c",
   "metadata": {},
   "source": [
    "**Grid Map 설명**\n",
    "- Agent가 선택할 수 있는 Action은 총 4개(상,하,좌,우)      \n",
    "- 검은 블록은 장애물(통과 불가능) \n",
    "- 파랑 블록이 목적지점     "
   ]
  },
  {
   "attachments": {},
   "cell_type": "markdown",
   "id": "ee62c6f9-8d15-470b-b4bc-5678e341d658",
   "metadata": {},
   "source": [
    "##### 2.1 강화학습 기본환경 구성"
   ]
  },
  {
   "cell_type": "code",
   "execution_count": null,
   "id": "fe080819-a69e-4083-81af-240decb5c7d6",
   "metadata": {},
   "outputs": [
    {
     "data": {
      "text/plain": [
       "matrix([[0, 0, 0, 0, 0],\n",
       "        [0, 1, 0, 0, 0],\n",
       "        [0, 1, 0, 1, 0],\n",
       "        [0, 0, 1, 1, 0],\n",
       "        [1, 0, 0, 1, 2]])"
      ]
     },
     "execution_count": 37,
     "metadata": {},
     "output_type": "execute_result"
    }
   ],
   "source": [
    "### Environment Generate    \n",
    "\n",
    "### 0 : 통과 가능\n",
    "### 1 : 통과 불가능 지역      \n",
    "### 2 : 목적지\n",
    "\n",
    "import numpy as np\n",
    "\n",
    "Grid = np.matrix([\n",
    "    [0,0,0,0,0],\n",
    "    [0,1,0,0,0],\n",
    "    [0,1,0,1,0],\n",
    "    [0,0,1,1,0],\n",
    "    [1,0,0,1,2]\n",
    "])\n",
    "\n",
    "\n",
    "Grid"
   ]
  },
  {
   "cell_type": "code",
   "execution_count": null,
   "id": "479256a2-5743-4c9f-9475-451c91b9da31",
   "metadata": {},
   "outputs": [],
   "source": [
    "class Path_Finding:\n",
    "    \n",
    "    def __init__(self,Grid, epsilon,discount_factor,learning_rate):\n",
    "\n",
    "        self.Grid = Grid\n",
    "        self.epsilon = epsilon\n",
    "        self.discount_factor = discount_factor\n",
    "        self.learning_rate = learning_rate\n",
    "\n",
    "        self.Action_Index = [0,1,2,3] # 상하좌우\n",
    "        self.Action = [[-1,0],[1,0],[0,-1],[0,1]]\n",
    "        self.Nrow = self.Grid.shape[0] - 1\n",
    "        self.Ncol = self.Grid.shape[1] - 1\n",
    "\n",
    "        self.QTable = defaultdict(lambda : [0.0, 0.0, 0.0, 0.0])\n",
    "        \n",
    "    def arg_max_Moving(self,state_Moving):\n",
    "        \n",
    "        max_index_list = []\n",
    "        max_value = state_Moving[0]\n",
    "        \n",
    "        for index, value in enumerate(state_Moving):\n",
    "            \n",
    "            if value > max_value:\n",
    "                \n",
    "                max_index_list.clear()\n",
    "                max_value = value\n",
    "                max_index_list.append(index)\n",
    "                \n",
    "            elif value == max_value:\n",
    "                \n",
    "                max_index_list.append(index)\n",
    "                \n",
    "        return random.choice(max_index_list)\n",
    "    \n",
    "    def Get_Moving(self,state):\n",
    "        \n",
    "        if np.random.rand() < self.epsilon:\n",
    "            ################################### 빈칸 ###########################################\n",
    "            Moving = np.random.choice(self.Action_Index)\n",
    "            ####################################################################################\n",
    "            \n",
    "        else:\n",
    "            ################################### 빈칸 ###########################################\n",
    "            state_Moving = self.QTable[state[0],state[1]]\n",
    "            Moving = self.arg_max_Moving(state_Moving = state_Moving)\n",
    "            ####################################################################################\n",
    "            \n",
    "        return Moving\n",
    "    \n",
    "    def Get_State(self, Moving, state,State_History):\n",
    "        \n",
    "        Next_State = copy.deepcopy(state)\n",
    "        \n",
    "        Next_State[0] += self.Action[Moving][0]\n",
    "        Next_State[1] += self.Action[Moving][1]    \n",
    "        \n",
    "        Penalty = \"No\"\n",
    "        \n",
    "        if Next_State[0] < 0 or Next_State[1] < 0 or Next_State[0] > self.Nrow or Next_State[1] > self.Ncol \\\n",
    "            or [Next_State[0],Next_State[1]] in State_History or self.Grid[state[0],state[1]] == 1:\n",
    "                \n",
    "            Next_State[0] = state[0]\n",
    "            Next_State[1] = state[1]\n",
    "            \n",
    "            Penalty = \"Yes\"\n",
    "            \n",
    "        return(Next_State, Penalty)\n",
    "    \n",
    "    def Get_Reward(self, Next_state, Penalty ,Terminal_State):\n",
    "        \n",
    "        Reward = 0 \n",
    "        \n",
    "        ################################### 빈칸 ###########################################\n",
    "        if Penalty == \"No\":\n",
    "            Reward += 1\n",
    "        else:\n",
    "            Reward -= 1\n",
    "            \n",
    "        if Next_state == Terminal_State:\n",
    "            Reward += 1\n",
    "        ####################################################################################\n",
    "            \n",
    "        return Reward       \n",
    "    \n",
    "    def Moving_Learning(self, state, Next_State, Reward, Moving):\n",
    "        \n",
    "        Q1 = self.QTable[state[0],state[1]][Moving]\n",
    "        Q2 = Reward + self.discount_factor * max(self.QTable[Next_State[0],Next_State[1]])\n",
    "        \n",
    "        self.QTable[state[0],state[1]][Moving] += self.learning_rate*(Q2-Q1)"
   ]
  },
  {
   "attachments": {},
   "cell_type": "markdown",
   "id": "cb3e8d16-cc7a-4bd0-a265-722a1cf1d360",
   "metadata": {},
   "source": [
    "##### 2.2 강화학습 진행     \n",
    "- $\\epsilon$ = 0.1     \n",
    "- $\\gamma$ = 0.9    \n",
    "- $\\alpha$ = 0.01"
   ]
  },
  {
   "cell_type": "code",
   "execution_count": null,
   "id": "789eecb1-2c2e-4e43-ae48-b2d7ffbf02fa",
   "metadata": {},
   "outputs": [],
   "source": [
    "PF = Path_Finding(Grid = Grid, epsilon = 0.1, learning_rate = 0.01, discount_factor = 0.9)\n",
    "\n",
    "# Episode 수  \n",
    "e = 300\n",
    "\n",
    "# 보상결과 저장 리스트\n",
    "Reward_List = [] \n",
    "E = [] \n",
    "\n",
    "# 성공/실패 횟수\n",
    "Success = 0\n",
    "Break = 0\n",
    "\n",
    "# 강화학습 진행\n",
    "for episode in range(e):\n",
    "    \n",
    "    # 학습결과값 초기화 진행\n",
    "    Reward_Total = 0 \n",
    "    Total_Step = 0\n",
    "    steps = 0 \n",
    "    \n",
    "    state = [0,0]\n",
    "    Terminal_State = [4,4]\n",
    "    \n",
    "    State_History = [] \n",
    "    State_History.append(state)\n",
    "    \n",
    "    # Episode가 종료될 때까지 반복\n",
    "    while True:\n",
    "        \n",
    "        # Action 선택\n",
    "        Moving = PF.Get_Moving(state = state)\n",
    "        # State 업데이트 \n",
    "        Get_State = PF.Get_State(Moving = Moving,\n",
    "                                 state = state,\n",
    "                                State_History = State_History)\n",
    "        \n",
    "        Next_State = Get_State[0]\n",
    "        Penalty = Get_State[1]\n",
    "        \n",
    "        # 보상 계산\n",
    "        Reward = PF.Get_Reward(Next_state = Next_State,\n",
    "                               Penalty = Penalty,\n",
    "                               Terminal_State = Terminal_State)\n",
    "        \n",
    "        Reward -= 1\n",
    "        \n",
    "        # Q Table 학습\n",
    "        PF.Moving_Learning(state = state,\n",
    "                           Next_State = Next_State,\n",
    "                           Reward = Reward,\n",
    "                           Moving = Moving)\n",
    "        \n",
    "        Reward_Total += Reward\n",
    "        \n",
    "        steps += 1\n",
    "        # Agent의 state가 변하지 않았을 경우 (이동할 수 없는 위치로 이동하였을 때)\n",
    "        if state != Next_State:\n",
    "            \n",
    "            State_History.append(Next_State)\n",
    "            \n",
    "            Total_Step += 1\n",
    "            state = copy.deepcopy(Next_State)\n",
    "            \n",
    "        # Agent가 목적지에 도착할 경우\n",
    "        if state == Terminal_State:\n",
    "            \n",
    "            Success += 1\n",
    "            Reward_List.append(Reward_Total)\n",
    "            E.append(episode)\n",
    "            \n",
    "            break\n",
    "            \n",
    "        # Agent의 trail이 최대허용치를 초과할 경우\n",
    "        if steps == 30:\n",
    "            \n",
    "            Break += 1\n",
    "            Reward_List.append(Reward_Total)\n",
    "            E.append(episode)\n",
    "            \n",
    "            break"
   ]
  },
  {
   "attachments": {},
   "cell_type": "markdown",
   "id": "c73542f6-c33e-4b29-b161-2f2f6e0a7328",
   "metadata": {},
   "source": [
    "**학습결과 확인** "
   ]
  },
  {
   "cell_type": "code",
   "execution_count": null,
   "id": "7e3a2450-b642-4d4b-ae11-a2e14a884583",
   "metadata": {},
   "outputs": [
    {
     "data": {
      "text/plain": [
       "[<matplotlib.lines.Line2D at 0x27d34d45fd0>]"
      ]
     },
     "execution_count": 40,
     "metadata": {},
     "output_type": "execute_result"
    },
    {
     "data": {
      "image/png": "[encoded data removed]",
      "text/plain": [
       "<Figure size 640x480 with 1 Axes>"
      ]
     },
     "metadata": {},
     "output_type": "display_data"
    }
   ],
   "source": [
    "import pylab\n",
    "pylab.plot(E, Reward_List,'b')"
   ]
  },
  {
   "attachments": {},
   "cell_type": "markdown",
   "id": "316364b8-ae20-4e0e-b462-19459ee23ed5",
   "metadata": {},
   "source": [
    "**Q Table 확인**"
   ]
  },
  {
   "cell_type": "code",
   "execution_count": null,
   "id": "311fd756-74a9-477e-9a56-facbb70afec0",
   "metadata": {},
   "outputs": [
    {
     "name": "stdout",
     "output_type": "stream",
     "text": [
      "[-0.20931589754977686, -3.977027136862539e-15, -0.20928932562365427, 0.0021233981175219907]\n"
     ]
    }
   ],
   "source": [
    "print(PF.QTable[0,0])"
   ]
  },
  {
   "cell_type": "code",
   "execution_count": null,
   "id": "51b5f20e-1208-440e-988e-7d3e61b64204",
   "metadata": {},
   "outputs": [
    {
     "name": "stdout",
     "output_type": "stream",
     "text": [
      "[-0.02, -1.576469697289276e-12, -0.02, -0.002324409082698118]\n"
     ]
    }
   ],
   "source": [
    "print(PF.QTable[1,0])"
   ]
  },
  {
   "attachments": {},
   "cell_type": "markdown",
   "id": "d1d5361f-ec30-463a-aa7a-de426a93d88d",
   "metadata": {},
   "source": [
    "##### 2.3 강화학습 진행     \n",
    "- $\\epsilon$ = 0.3     \n",
    "- $\\gamma$ = 0.9    \n",
    "- $\\alpha$ = 0.01"
   ]
  },
  {
   "cell_type": "code",
   "execution_count": null,
   "id": "798a23d7-ea5f-4551-9043-e5b8127e1599",
   "metadata": {},
   "outputs": [],
   "source": [
    "PF = Path_Finding(Grid = Grid, epsilon = 0.3, learning_rate = 0.01, discount_factor = 0.9)\n",
    "\n",
    "# Episode 수  \n",
    "e = 300\n",
    "\n",
    "# 보상결과 저장 리스트\n",
    "Reward_List = [] \n",
    "E = [] \n",
    "\n",
    "# 성공/실패 횟수\n",
    "Suceess = 0\n",
    "Break = 0\n",
    "\n",
    "# 강화학습 진행\n",
    "for episode in range(e):\n",
    "    \n",
    "    # 학습결과값 초기화 진행\n",
    "    Reward_Total = 0 \n",
    "    Total_Step = 0\n",
    "    steps = 0 \n",
    "    \n",
    "    state = [0,0]\n",
    "    Terminal_State = [4,4]\n",
    "    \n",
    "    State_History = [] \n",
    "    State_History.append(state)\n",
    "    \n",
    "    # Episode가 종료될 때까지 반복\n",
    "    while True:\n",
    "        \n",
    "        # Action 선택\n",
    "        Moving = PF.Get_Moving(state = state)\n",
    "        # State 업데이트 \n",
    "        Get_State = PF.Get_State(Moving = Moving,\n",
    "                                 state = state,\n",
    "                                State_History = State_History)\n",
    "        \n",
    "        Next_State = Get_State[0]\n",
    "        Penalty = Get_State[1]\n",
    "        \n",
    "        # 보상 계산\n",
    "        Reward = PF.Get_Reward(Next_state = Next_State,\n",
    "                               Penalty = Penalty,\n",
    "                               Terminal_State = Terminal_State)\n",
    "        \n",
    "        Reward -= 1\n",
    "        \n",
    "        # Q Table 학습\n",
    "        PF.Moving_Learning(state = state,\n",
    "                           Next_State = Next_State,\n",
    "                           Reward = Reward,\n",
    "                           Moving = Moving)\n",
    "        \n",
    "        Reward_Total += Reward\n",
    "        \n",
    "        steps += 1\n",
    "        \n",
    "        if state != Next_State:\n",
    "            \n",
    "            State_History.append(Next_State)\n",
    "            \n",
    "            Total_Step += 1\n",
    "            state = copy.deepcopy(Next_State)\n",
    "            \n",
    "        if state == Terminal_State:\n",
    "            \n",
    "            Suceess += 1\n",
    "            Reward_List.append(Reward_Total)\n",
    "            E.append(episode)\n",
    "            \n",
    "            break\n",
    "            \n",
    "        if steps == 30:\n",
    "            \n",
    "            Break += 1\n",
    "            Reward_List.append(Reward_Total)\n",
    "            E.append(episode)\n",
    "            \n",
    "            break"
   ]
  },
  {
   "attachments": {},
   "cell_type": "markdown",
   "id": "be35e7ce-ec64-44a4-8421-581b54f6e125",
   "metadata": {},
   "source": [
    "**학습결과 확인**"
   ]
  },
  {
   "cell_type": "code",
   "execution_count": null,
   "id": "117a0129-ef48-439e-8174-c35ece5ad286",
   "metadata": {},
   "outputs": [
    {
     "data": {
      "text/plain": [
       "[<matplotlib.lines.Line2D at 0x27d34dbd9d0>]"
      ]
     },
     "execution_count": 44,
     "metadata": {},
     "output_type": "execute_result"
    },
    {
     "data": {
      "image/png": "[encoded data removed]",
      "text/plain": [
       "<Figure size 640x480 with 1 Axes>"
      ]
     },
     "metadata": {},
     "output_type": "display_data"
    }
   ],
   "source": [
    "import pylab\n",
    "pylab.plot(E, Reward_List,'b')"
   ]
  },
  {
   "attachments": {},
   "cell_type": "markdown",
   "id": "d1973220-2b6f-48b3-8fdf-5280c556ede6",
   "metadata": {},
   "source": [
    "**Q Table 확인**     \n",
    "$$\n",
    "Q[state]={r_{1},r_{2}, r_{3}, r_{4}}\n",
    "$$"
   ]
  },
  {
   "cell_type": "code",
   "execution_count": null,
   "id": "c2e4eb3c-e865-4cf1-9b57-138ab2e27cd2",
   "metadata": {},
   "outputs": [
    {
     "name": "stdout",
     "output_type": "stream",
     "text": [
      "[-0.5056516418837549, -2.7146608859733003e-10, -0.5500336689920441, 0.0002242145917118976]\n"
     ]
    }
   ],
   "source": [
    "print(PF.QTable[0,0])"
   ]
  },
  {
   "cell_type": "code",
   "execution_count": null,
   "id": "bd153ff1-4b59-4988-9a5f-554d9464b1b7",
   "metadata": {},
   "outputs": [
    {
     "name": "stdout",
     "output_type": "stream",
     "text": [
      "[-0.1545106111460066, -8.155610917081685e-09, -0.039800000047891, -0.03587634244752954]\n"
     ]
    }
   ],
   "source": [
    "print(PF.QTable[1,0])"
   ]
  }
 ],
 "metadata": {
  "kernelspec": {
   "display_name": "Python 3 (ipykernel)",
   "language": "python",
   "name": "python3"
  },
  "language_info": {
   "codemirror_mode": {
    "name": "ipython",
    "version": 3
   },
   "file_extension": ".py",
   "mimetype": "text/x-python",
   "name": "python",
   "nbconvert_exporter": "python",
   "pygments_lexer": "ipython3",
   "version": "3.9.13"
  }
 },
 "nbformat": 4,
 "nbformat_minor": 5
}
